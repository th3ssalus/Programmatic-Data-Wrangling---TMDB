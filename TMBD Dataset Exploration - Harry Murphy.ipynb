{
 "cells": [
  {
   "cell_type": "markdown",
   "id": "32131db9-835a-44b0-8e1a-127c6acd5bc0",
   "metadata": {
    "tags": []
   },
   "source": [
    "# Exploration into TMBD Movies Dataset"
   ]
  },
  {
   "cell_type": "markdown",
   "id": "abe17ea1-9263-4852-b7cc-97a492fe6d17",
   "metadata": {
    "jp-MarkdownHeadingCollapsed": true,
    "tags": []
   },
   "source": [
    "## ----Importing Necessary Libraries----"
   ]
  },
  {
   "cell_type": "code",
   "execution_count": 2,
   "id": "734901a7-f754-4602-b391-2439609dee1b",
   "metadata": {},
   "outputs": [],
   "source": [
    "import os ## This module was used to check the current working directory during data loading.\n",
    "import pandas as pd ## This module is used to manipulate and load data.\n",
    "import numpy as np ## This module is used to generate summary statistics and apply mathematics functions to data.\n",
    "import matplotlib.pyplot as plt ## Used to generate a window for visuals to be displayed within this notebook.\n",
    "import seaborn as sns ## This module is used to generate visuals including histograms and correlation plots.\n",
    "import ast ## This module can be used to evaluate literals, eg: transform string-lists back into lists."
   ]
  },
  {
   "cell_type": "markdown",
   "id": "d5f84331-6d72-479c-9e80-358344b8fca6",
   "metadata": {
    "jp-MarkdownHeadingCollapsed": true,
    "tags": []
   },
   "source": [
    "## ----Loading the data----"
   ]
  },
  {
   "cell_type": "markdown",
   "id": "b2826278-fa5e-4f1c-9531-2f131d2c0d8a",
   "metadata": {
    "jp-MarkdownHeadingCollapsed": true,
    "tags": []
   },
   "source": [
    "#### Directory Check"
   ]
  },
  {
   "cell_type": "code",
   "execution_count": 13,
   "id": "9ee6f44f-ef30-4d2a-999f-411098dce235",
   "metadata": {},
   "outputs": [
    {
     "name": "stdout",
     "output_type": "stream",
     "text": [
      "C:\\Users\\Harry\\Desktop\\Digital Futures\\TMBD Assignment\n"
     ]
    }
   ],
   "source": [
    "# CHECKING THE CURRENT WORKING DIRECTORY IS CORRECT.\n",
    "## Make sure the notebook is working from the same folder as the dataset\n",
    "notebook_path = os.getcwd()\n",
    "print(notebook_path)"
   ]
  },
  {
   "cell_type": "markdown",
   "id": "6b8fafe9-6380-4ef7-b0d9-9bfd5c2d9f01",
   "metadata": {
    "jp-MarkdownHeadingCollapsed": true,
    "tags": []
   },
   "source": [
    "#### Load dataset csv into a pandas dataframe"
   ]
  },
  {
   "cell_type": "code",
   "execution_count": 316,
   "id": "29beea04-ac91-4829-b958-990a21fe1d27",
   "metadata": {},
   "outputs": [],
   "source": [
    "#INITIALISE A VARAIBLE REPRESENTING THE PATH FOR THE DATASET\n",
    "## As the notebook is already in the same directory as the dataset, the full path is not required\n",
    "## to access the dataset.\n",
    "dataset = 'TMDB_movies.csv'"
   ]
  },
  {
   "cell_type": "code",
   "execution_count": 317,
   "id": "ae6bd7bb-49da-483c-bbab-a0215d37fcc9",
   "metadata": {},
   "outputs": [],
   "source": [
    "#READ THE DATASET INTO A PANDAS DATAFRAME (df)\n",
    "df = pd.read_csv(dataset)"
   ]
  },
  {
   "cell_type": "markdown",
   "id": "ae424e97-6b7f-4d92-9fd0-920186536a2b",
   "metadata": {
    "tags": []
   },
   "source": [
    "## ----First Checks----"
   ]
  },
  {
   "cell_type": "markdown",
   "id": "75c5d68d-567a-42fe-9ba1-b6b3a0a47a5e",
   "metadata": {
    "tags": []
   },
   "source": [
    "### <span style = \"color:#E66100\"> Questions: </span>"
   ]
  },
  {
   "cell_type": "markdown",
   "id": "6a334614-d09a-412a-bcb9-a63b36a25676",
   "metadata": {
    "jp-MarkdownHeadingCollapsed": true,
    "tags": []
   },
   "source": [
    "#### <span style = \"color:#0C7BDC\"> Solved: </span> In **production_countries & spoken_languages** what does the **<i>\"iso_\"</i>** prefix refer to?"
   ]
  },
  {
   "cell_type": "markdown",
   "id": "d344cba6-2675-43a3-adce-99fe2f6442c7",
   "metadata": {},
   "source": [
    "ISO are standards defined by the ***International Organisation for Standardization (ISO)***\n",
    "- **ISO 3166** is a standard for defining codes representing the names of countries.\n",
    "- **ISO 639** is a standard for defining codes representing the names of languages."
   ]
  },
  {
   "cell_type": "markdown",
   "id": "919f06ad-ad90-44b2-9597-41db79f15a08",
   "metadata": {
    "jp-MarkdownHeadingCollapsed": true,
    "tags": []
   },
   "source": [
    "#### <span style = \"color:#0C7BDC\"> Solved: </span> How do I map original languages?"
   ]
  },
  {
   "cell_type": "markdown",
   "id": "0b7f5ac6-e836-4cf0-8efe-50dc385ca438",
   "metadata": {},
   "source": [
    "Original Language abbreviations seems to be mapped to ISO 3166 standards.\n",
    "https://www.iso.org/iso-3166-country-codes.html"
   ]
  },
  {
   "cell_type": "markdown",
   "id": "4e194ace-85b4-46d2-b6b8-5c1afa129d84",
   "metadata": {
    "jp-MarkdownHeadingCollapsed": true,
    "tags": []
   },
   "source": [
    "#### <span style = \"color:#0C7BDC\"> Solved: </span>  Expanding overview, what does it consist of?"
   ]
  },
  {
   "cell_type": "markdown",
   "id": "ca3fef28-2064-4d72-9975-6e053012e39a",
   "metadata": {},
   "source": [
    "Description of the movie/blurb."
   ]
  },
  {
   "cell_type": "code",
   "execution_count": 214,
   "id": "9b9eff02-ac78-428a-ad62-425dac842005",
   "metadata": {},
   "outputs": [
    {
     "data": {
      "text/plain": [
       "'In the 22nd century, a paraplegic Marine is dispatched to the moon Pandora on a unique mission, but becomes torn between following orders and protecting an alien civilization.'"
      ]
     },
     "execution_count": 214,
     "metadata": {},
     "output_type": "execute_result"
    }
   ],
   "source": [
    "df2['overview'][0]"
   ]
  },
  {
   "cell_type": "markdown",
   "id": "d0aed2be-b6d6-4ce2-8f31-492787fb9deb",
   "metadata": {
    "jp-MarkdownHeadingCollapsed": true,
    "tags": []
   },
   "source": [
    "#### <span style = \"color:#0C7BDC\"> Solved: </span> What is the difference between \"Original Title\" and \"Title\"?"
   ]
  },
  {
   "cell_type": "markdown",
   "id": "efcbb8a9-22f7-43c2-a2ff-dd333f33b73c",
   "metadata": {},
   "source": [
    "Are there any entries where these two values do not match?\n",
    "- Yes, 261 entries.\n",
    "- Usually a translation or the same title with more context."
   ]
  },
  {
   "cell_type": "code",
   "execution_count": 216,
   "id": "1e1b85d6-2343-4990-9753-d1a400425bc3",
   "metadata": {},
   "outputs": [
    {
     "data": {
      "text/plain": [
       "261"
      ]
     },
     "execution_count": 216,
     "metadata": {},
     "output_type": "execute_result"
    }
   ],
   "source": [
    "len(df2[df2['original_title'] != df2['title']])"
   ]
  },
  {
   "cell_type": "code",
   "execution_count": 221,
   "id": "812646ef-f727-4a64-8015-69b1197193b3",
   "metadata": {},
   "outputs": [
    {
     "data": {
      "text/html": [
       "<div>\n",
       "<style scoped>\n",
       "    .dataframe tbody tr th:only-of-type {\n",
       "        vertical-align: middle;\n",
       "    }\n",
       "\n",
       "    .dataframe tbody tr th {\n",
       "        vertical-align: top;\n",
       "    }\n",
       "\n",
       "    .dataframe thead th {\n",
       "        text-align: right;\n",
       "    }\n",
       "</style>\n",
       "<table border=\"1\" class=\"dataframe\">\n",
       "  <thead>\n",
       "    <tr style=\"text-align: right;\">\n",
       "      <th></th>\n",
       "      <th>title</th>\n",
       "      <th>original_title</th>\n",
       "    </tr>\n",
       "  </thead>\n",
       "  <tbody>\n",
       "    <tr>\n",
       "      <th>97</th>\n",
       "      <td>Shin Godzilla</td>\n",
       "      <td>シン・ゴジラ</td>\n",
       "    </tr>\n",
       "    <tr>\n",
       "      <th>215</th>\n",
       "      <td>Fantastic 4: Rise of the Silver Surfer</td>\n",
       "      <td>4: Rise of the Silver Surfer</td>\n",
       "    </tr>\n",
       "    <tr>\n",
       "      <th>235</th>\n",
       "      <td>Asterix at the Olympic Games</td>\n",
       "      <td>Astérix aux Jeux Olympiques</td>\n",
       "    </tr>\n",
       "    <tr>\n",
       "      <th>317</th>\n",
       "      <td>The Flowers of War</td>\n",
       "      <td>金陵十三釵</td>\n",
       "    </tr>\n",
       "    <tr>\n",
       "      <th>474</th>\n",
       "      <td>Evolution</td>\n",
       "      <td>Évolution</td>\n",
       "    </tr>\n",
       "  </tbody>\n",
       "</table>\n",
       "</div>"
      ],
      "text/plain": [
       "                                      title                original_title\n",
       "97                            Shin Godzilla                        シン・ゴジラ\n",
       "215  Fantastic 4: Rise of the Silver Surfer  4: Rise of the Silver Surfer\n",
       "235            Asterix at the Olympic Games   Astérix aux Jeux Olympiques\n",
       "317                      The Flowers of War                         金陵十三釵\n",
       "474                               Evolution                     Évolution"
      ]
     },
     "execution_count": 221,
     "metadata": {},
     "output_type": "execute_result"
    }
   ],
   "source": [
    "df2[df2['original_title'] != df2['title']][['title','original_title']].head()"
   ]
  },
  {
   "cell_type": "markdown",
   "id": "4772ed46-2ea4-4e77-a20e-7a5411e60bbd",
   "metadata": {},
   "source": [
    "#### <span style = \"color:#E66100\"> Unsolved: </span> What does **popularity** reference?"
   ]
  },
  {
   "cell_type": "markdown",
   "id": "151133a3-3d5d-4d3f-9260-a50039a604bd",
   "metadata": {},
   "source": [
    "#### <span style = \"color:#E66100\"> Unsolved: </span> How are votes calculated? What is good, what is bad?"
   ]
  },
  {
   "cell_type": "markdown",
   "id": "e0513422-46d6-46d4-a94b-af9ae1fbc8f7",
   "metadata": {
    "jp-MarkdownHeadingCollapsed": true,
    "tags": []
   },
   "source": [
    "##### <span style = \"color:#0C7BDC\"> **Code** </span>"
   ]
  },
  {
   "cell_type": "code",
   "execution_count": 28,
   "id": "546769a0-49a1-4a6b-a49f-380d95ccf9c6",
   "metadata": {},
   "outputs": [
    {
     "data": {
      "text/html": [
       "<div>\n",
       "<style scoped>\n",
       "    .dataframe tbody tr th:only-of-type {\n",
       "        vertical-align: middle;\n",
       "    }\n",
       "\n",
       "    .dataframe tbody tr th {\n",
       "        vertical-align: top;\n",
       "    }\n",
       "\n",
       "    .dataframe thead th {\n",
       "        text-align: right;\n",
       "    }\n",
       "</style>\n",
       "<table border=\"1\" class=\"dataframe\">\n",
       "  <thead>\n",
       "    <tr style=\"text-align: right;\">\n",
       "      <th></th>\n",
       "      <th>budget</th>\n",
       "      <th>genres</th>\n",
       "      <th>homepage</th>\n",
       "      <th>id</th>\n",
       "      <th>keywords</th>\n",
       "      <th>original_language</th>\n",
       "      <th>original_title</th>\n",
       "      <th>overview</th>\n",
       "      <th>popularity</th>\n",
       "      <th>production_companies</th>\n",
       "      <th>production_countries</th>\n",
       "      <th>release_date</th>\n",
       "      <th>revenue</th>\n",
       "      <th>runtime</th>\n",
       "      <th>spoken_languages</th>\n",
       "      <th>status</th>\n",
       "      <th>tagline</th>\n",
       "      <th>title</th>\n",
       "      <th>vote_average</th>\n",
       "      <th>vote_count</th>\n",
       "    </tr>\n",
       "  </thead>\n",
       "  <tbody>\n",
       "    <tr>\n",
       "      <th>0</th>\n",
       "      <td>237000000</td>\n",
       "      <td>[{\"id\": 28, \"name\": \"Action\"}, {\"id\": 12, \"nam...</td>\n",
       "      <td>http://www.avatarmovie.com/</td>\n",
       "      <td>19995</td>\n",
       "      <td>[{\"id\": 1463, \"name\": \"culture clash\"}, {\"id\":...</td>\n",
       "      <td>en</td>\n",
       "      <td>Avatar</td>\n",
       "      <td>In the 22nd century, a paraplegic Marine is di...</td>\n",
       "      <td>150.437577</td>\n",
       "      <td>[{\"name\": \"Ingenious Film Partners\", \"id\": 289...</td>\n",
       "      <td>[{\"iso_3166_1\": \"US\", \"name\": \"United States o...</td>\n",
       "      <td>2009-12-10</td>\n",
       "      <td>2787965087</td>\n",
       "      <td>162.0</td>\n",
       "      <td>[{\"iso_639_1\": \"en\", \"name\": \"English\"}, {\"iso...</td>\n",
       "      <td>Released</td>\n",
       "      <td>Enter the World of Pandora.</td>\n",
       "      <td>Avatar</td>\n",
       "      <td>7.2</td>\n",
       "      <td>11800</td>\n",
       "    </tr>\n",
       "    <tr>\n",
       "      <th>1</th>\n",
       "      <td>300000000</td>\n",
       "      <td>[{\"id\": 12, \"name\": \"Adventure\"}, {\"id\": 14, \"...</td>\n",
       "      <td>http://disney.go.com/disneypictures/pirates/</td>\n",
       "      <td>285</td>\n",
       "      <td>[{\"id\": 270, \"name\": \"ocean\"}, {\"id\": 726, \"na...</td>\n",
       "      <td>en</td>\n",
       "      <td>Pirates of the Caribbean: At World's End</td>\n",
       "      <td>Captain Barbossa, long believed to be dead, ha...</td>\n",
       "      <td>139.082615</td>\n",
       "      <td>[{\"name\": \"Walt Disney Pictures\", \"id\": 2}, {\"...</td>\n",
       "      <td>[{\"iso_3166_1\": \"US\", \"name\": \"United States o...</td>\n",
       "      <td>2007-05-19</td>\n",
       "      <td>961000000</td>\n",
       "      <td>169.0</td>\n",
       "      <td>[{\"iso_639_1\": \"en\", \"name\": \"English\"}]</td>\n",
       "      <td>Released</td>\n",
       "      <td>At the end of the world, the adventure begins.</td>\n",
       "      <td>Pirates of the Caribbean: At World's End</td>\n",
       "      <td>6.9</td>\n",
       "      <td>4500</td>\n",
       "    </tr>\n",
       "    <tr>\n",
       "      <th>2</th>\n",
       "      <td>245000000</td>\n",
       "      <td>[{\"id\": 28, \"name\": \"Action\"}, {\"id\": 12, \"nam...</td>\n",
       "      <td>http://www.sonypictures.com/movies/spectre/</td>\n",
       "      <td>206647</td>\n",
       "      <td>[{\"id\": 470, \"name\": \"spy\"}, {\"id\": 818, \"name...</td>\n",
       "      <td>en</td>\n",
       "      <td>Spectre</td>\n",
       "      <td>A cryptic message from Bond’s past sends him o...</td>\n",
       "      <td>107.376788</td>\n",
       "      <td>[{\"name\": \"Columbia Pictures\", \"id\": 5}, {\"nam...</td>\n",
       "      <td>[{\"iso_3166_1\": \"GB\", \"name\": \"United Kingdom\"...</td>\n",
       "      <td>2015-10-26</td>\n",
       "      <td>880674609</td>\n",
       "      <td>148.0</td>\n",
       "      <td>[{\"iso_639_1\": \"fr\", \"name\": \"Fran\\u00e7ais\"},...</td>\n",
       "      <td>Released</td>\n",
       "      <td>A Plan No One Escapes</td>\n",
       "      <td>Spectre</td>\n",
       "      <td>6.3</td>\n",
       "      <td>4466</td>\n",
       "    </tr>\n",
       "    <tr>\n",
       "      <th>3</th>\n",
       "      <td>250000000</td>\n",
       "      <td>[{\"id\": 28, \"name\": \"Action\"}, {\"id\": 80, \"nam...</td>\n",
       "      <td>http://www.thedarkknightrises.com/</td>\n",
       "      <td>49026</td>\n",
       "      <td>[{\"id\": 849, \"name\": \"dc comics\"}, {\"id\": 853,...</td>\n",
       "      <td>en</td>\n",
       "      <td>The Dark Knight Rises</td>\n",
       "      <td>Following the death of District Attorney Harve...</td>\n",
       "      <td>112.312950</td>\n",
       "      <td>[{\"name\": \"Legendary Pictures\", \"id\": 923}, {\"...</td>\n",
       "      <td>[{\"iso_3166_1\": \"US\", \"name\": \"United States o...</td>\n",
       "      <td>2012-07-16</td>\n",
       "      <td>1084939099</td>\n",
       "      <td>165.0</td>\n",
       "      <td>[{\"iso_639_1\": \"en\", \"name\": \"English\"}]</td>\n",
       "      <td>Released</td>\n",
       "      <td>The Legend Ends</td>\n",
       "      <td>The Dark Knight Rises</td>\n",
       "      <td>7.6</td>\n",
       "      <td>9106</td>\n",
       "    </tr>\n",
       "    <tr>\n",
       "      <th>4</th>\n",
       "      <td>260000000</td>\n",
       "      <td>[{\"id\": 28, \"name\": \"Action\"}, {\"id\": 12, \"nam...</td>\n",
       "      <td>http://movies.disney.com/john-carter</td>\n",
       "      <td>49529</td>\n",
       "      <td>[{\"id\": 818, \"name\": \"based on novel\"}, {\"id\":...</td>\n",
       "      <td>en</td>\n",
       "      <td>John Carter</td>\n",
       "      <td>John Carter is a war-weary, former military ca...</td>\n",
       "      <td>43.926995</td>\n",
       "      <td>[{\"name\": \"Walt Disney Pictures\", \"id\": 2}]</td>\n",
       "      <td>[{\"iso_3166_1\": \"US\", \"name\": \"United States o...</td>\n",
       "      <td>2012-03-07</td>\n",
       "      <td>284139100</td>\n",
       "      <td>132.0</td>\n",
       "      <td>[{\"iso_639_1\": \"en\", \"name\": \"English\"}]</td>\n",
       "      <td>Released</td>\n",
       "      <td>Lost in our world, found in another.</td>\n",
       "      <td>John Carter</td>\n",
       "      <td>6.1</td>\n",
       "      <td>2124</td>\n",
       "    </tr>\n",
       "  </tbody>\n",
       "</table>\n",
       "</div>"
      ],
      "text/plain": [
       "      budget                                             genres  \\\n",
       "0  237000000  [{\"id\": 28, \"name\": \"Action\"}, {\"id\": 12, \"nam...   \n",
       "1  300000000  [{\"id\": 12, \"name\": \"Adventure\"}, {\"id\": 14, \"...   \n",
       "2  245000000  [{\"id\": 28, \"name\": \"Action\"}, {\"id\": 12, \"nam...   \n",
       "3  250000000  [{\"id\": 28, \"name\": \"Action\"}, {\"id\": 80, \"nam...   \n",
       "4  260000000  [{\"id\": 28, \"name\": \"Action\"}, {\"id\": 12, \"nam...   \n",
       "\n",
       "                                       homepage      id  \\\n",
       "0                   http://www.avatarmovie.com/   19995   \n",
       "1  http://disney.go.com/disneypictures/pirates/     285   \n",
       "2   http://www.sonypictures.com/movies/spectre/  206647   \n",
       "3            http://www.thedarkknightrises.com/   49026   \n",
       "4          http://movies.disney.com/john-carter   49529   \n",
       "\n",
       "                                            keywords original_language  \\\n",
       "0  [{\"id\": 1463, \"name\": \"culture clash\"}, {\"id\":...                en   \n",
       "1  [{\"id\": 270, \"name\": \"ocean\"}, {\"id\": 726, \"na...                en   \n",
       "2  [{\"id\": 470, \"name\": \"spy\"}, {\"id\": 818, \"name...                en   \n",
       "3  [{\"id\": 849, \"name\": \"dc comics\"}, {\"id\": 853,...                en   \n",
       "4  [{\"id\": 818, \"name\": \"based on novel\"}, {\"id\":...                en   \n",
       "\n",
       "                             original_title  \\\n",
       "0                                    Avatar   \n",
       "1  Pirates of the Caribbean: At World's End   \n",
       "2                                   Spectre   \n",
       "3                     The Dark Knight Rises   \n",
       "4                               John Carter   \n",
       "\n",
       "                                            overview  popularity  \\\n",
       "0  In the 22nd century, a paraplegic Marine is di...  150.437577   \n",
       "1  Captain Barbossa, long believed to be dead, ha...  139.082615   \n",
       "2  A cryptic message from Bond’s past sends him o...  107.376788   \n",
       "3  Following the death of District Attorney Harve...  112.312950   \n",
       "4  John Carter is a war-weary, former military ca...   43.926995   \n",
       "\n",
       "                                production_companies  \\\n",
       "0  [{\"name\": \"Ingenious Film Partners\", \"id\": 289...   \n",
       "1  [{\"name\": \"Walt Disney Pictures\", \"id\": 2}, {\"...   \n",
       "2  [{\"name\": \"Columbia Pictures\", \"id\": 5}, {\"nam...   \n",
       "3  [{\"name\": \"Legendary Pictures\", \"id\": 923}, {\"...   \n",
       "4        [{\"name\": \"Walt Disney Pictures\", \"id\": 2}]   \n",
       "\n",
       "                                production_countries release_date     revenue  \\\n",
       "0  [{\"iso_3166_1\": \"US\", \"name\": \"United States o...   2009-12-10  2787965087   \n",
       "1  [{\"iso_3166_1\": \"US\", \"name\": \"United States o...   2007-05-19   961000000   \n",
       "2  [{\"iso_3166_1\": \"GB\", \"name\": \"United Kingdom\"...   2015-10-26   880674609   \n",
       "3  [{\"iso_3166_1\": \"US\", \"name\": \"United States o...   2012-07-16  1084939099   \n",
       "4  [{\"iso_3166_1\": \"US\", \"name\": \"United States o...   2012-03-07   284139100   \n",
       "\n",
       "   runtime                                   spoken_languages    status  \\\n",
       "0    162.0  [{\"iso_639_1\": \"en\", \"name\": \"English\"}, {\"iso...  Released   \n",
       "1    169.0           [{\"iso_639_1\": \"en\", \"name\": \"English\"}]  Released   \n",
       "2    148.0  [{\"iso_639_1\": \"fr\", \"name\": \"Fran\\u00e7ais\"},...  Released   \n",
       "3    165.0           [{\"iso_639_1\": \"en\", \"name\": \"English\"}]  Released   \n",
       "4    132.0           [{\"iso_639_1\": \"en\", \"name\": \"English\"}]  Released   \n",
       "\n",
       "                                          tagline  \\\n",
       "0                     Enter the World of Pandora.   \n",
       "1  At the end of the world, the adventure begins.   \n",
       "2                           A Plan No One Escapes   \n",
       "3                                 The Legend Ends   \n",
       "4            Lost in our world, found in another.   \n",
       "\n",
       "                                      title  vote_average  vote_count  \n",
       "0                                    Avatar           7.2       11800  \n",
       "1  Pirates of the Caribbean: At World's End           6.9        4500  \n",
       "2                                   Spectre           6.3        4466  \n",
       "3                     The Dark Knight Rises           7.6        9106  \n",
       "4                               John Carter           6.1        2124  "
      ]
     },
     "execution_count": 28,
     "metadata": {},
     "output_type": "execute_result"
    }
   ],
   "source": [
    "# CHECK THE FIRST 5 ROWS OF DATA\n",
    "df.head()"
   ]
  },
  {
   "cell_type": "markdown",
   "id": "bbd1221e-e5bb-42a6-b5b7-8edb06b15922",
   "metadata": {
    "jp-MarkdownHeadingCollapsed": true,
    "tags": []
   },
   "source": [
    "### Self-Made Dictionary"
   ]
  },
  {
   "cell_type": "markdown",
   "id": "16f894c4-fe4a-49d5-b66c-57390d9d3836",
   "metadata": {
    "jp-MarkdownHeadingCollapsed": true,
    "tags": []
   },
   "source": [
    "###### <u>**Key:**</u> \n",
    "- Orange datatypes are the same in the data,\n",
    "- Non-orange datatypes are representeed as **objects** in the dataframe and <i>might require conversion</i>."
   ]
  },
  {
   "cell_type": "markdown",
   "id": "4b0ead6e-69c8-49cc-81e0-942b0eb047eb",
   "metadata": {},
   "source": [
    "**Budget:** <i> USD($) Budget for each film's production </i> <span style = \"color:orange\"> **(int)** </span>.\n",
    "    \n",
    "- <span style = \"color:green\"> **?** </span> Maybe rounded to the nearest dollar/whole currency <span style = \"color:green\"> **?** </span>\n",
    "\n",
    "**Genres:** <i> List of genres </i> **(str)**. \n",
    "- Each genre represented by a dictionary **(dict)**.\n",
    "- Each dictionary has a key for \"<i>[unique genre]</i> id\" **(int)** and \"<i>[genre]</i> name\" **(str)**. \n",
    "- **List is represented as a string.**\n",
    "        \n",
    "**Homepage:** <i>URL of the movie landing page </i>**(str)**.\n",
    "\n",
    "**Id:** <i>Unique identifier for each entry in the dataset <span style = \"color:orange\"> </i>**(int)** </span>.\n",
    "\n",
    "**Keywords:** <i>List of keywords in the same format as genres</i> **(lst)**.\n",
    "- Potentially kewords and genres are from the same data set due to\n",
    "  format similarity and keywords IDs are far larger than genre IDs.\n",
    "          \n",
    "\n",
    "**Original Language:** <i>Two lower case letters representing language</i> **(str)**.\n",
    "- **\"en\" == English**\n",
    "- **\"es\" == ?**\n",
    "\n",
    "**Original Title:** <i>The Title of the Film </i>**(str)**.\n",
    "- Potentially in the original language...\n",
    "\n",
    "**Overview:** <i>A synopsis of the film's plot </i>**(str)**. \n",
    "\n",
    "**Popularity:** <i>No idea!  </i> <span style = \"color:orange\"> **(float)** </span>.\n",
    "\n",
    "**Production Companies:** <i>List of the production companies involved with the film </i>**(str)**.\n",
    "- Each company represented by a dictionary **(dict)**.\n",
    "- Each dictionary has a key for \"<i>[company]</i> name\" **(str)** and \"<i>[unique company]</i> id\" **(int)**.\n",
    "\n",
    "**Production Countries:** <i>List of the countries involved with the production of the film</i> **(str)**.\n",
    "- Each country represented by a dictionary **(dict)**.\n",
    "- Each dictionary has a key for \"<i>[country]</i> abbreviation\" **(str)** and \"<i>[country]</i> name\" **(str)**.\n",
    "    - Country abbreviation == **\"iso_3166_1.\"**\n",
    "\n",
    "**Release date:** <i>The date of the film's release.</i>\n",
    "- Assumed datatype: **date.time**\n",
    "- Format: **YYYY-MM-DD**\n",
    "\n",
    "**Revenue:** <i> USD($) revenue for each film's production </i>**(int)**.\n",
    "\n",
    "- <span style = \"color:green\"> **?** </span> Maybe rounded to the nearest dollar/whole currency <span style = \"color:green\"> **?** </span>\n",
    "\n",
    "**Runtime:** <i> The runtime in minutes of each film  </i> <span style = \"color:orange\"> **(float)** </span>.\n",
    "\n",
    "**Spoken languages:** <i>List of every available language option for a given film</i> **(str)**.\n",
    "- Each language represented by a dictionary **(dict)**.\n",
    "- Each dictionary has a key for \"<i>[unique language]</i> id\" **(str)** and \"language\" **(str)**. \n",
    "     - Language abbreviation == **\"iso_639_1.\"**\n",
    "\n",
    "**Status:** <i>A boolean, whether or not the film has been released</i> **(str)**.\n",
    "- **True == \"released\"**\n",
    "- **False == \"\"**\n",
    "\n",
    "**Tagline:** <i>A string representing the tagline for the movie</i> **(str)**.\n",
    "\n",
    "**Title:** <i>The Title of the Film </i>**(str)**.\n",
    "\n",
    "- <span style = \"color:green\"> **?** </span> Maybe different from the <i>original title</i> <span style = \"color:green\"> **?** </span>\n",
    "\n",
    "**Vote Average:** <i>Average (likely mean) of all of the votes for a given film</i> <span style = \"color:orange\"> **(float)** </span>.\n",
    "\n",
    "**Vote Count:** <i>A tally of the total amount of votes in the dataset per film</i> <span style = \"color:orange\"> **(int)** </span>.\n"
   ]
  },
  {
   "cell_type": "markdown",
   "id": "e097e23a-fb9a-40d1-934c-f9d9d27fc6e2",
   "metadata": {
    "tags": []
   },
   "source": [
    "## ----Data Quality Checks----"
   ]
  },
  {
   "cell_type": "markdown",
   "id": "d3b1781d-e72a-421f-b2d7-ff051e2bf72c",
   "metadata": {
    "tags": []
   },
   "source": [
    "### Data Overview"
   ]
  },
  {
   "cell_type": "markdown",
   "id": "2d20ecbf-3874-4545-8381-4d6ec904d55d",
   "metadata": {
    "tags": []
   },
   "source": [
    "#### <span style = \"color:#E66100\"> **Insights** </span>"
   ]
  },
  {
   "cell_type": "markdown",
   "id": "61570210-17fc-481a-a6e5-181e1d59628b",
   "metadata": {},
   "source": [
    "- **4803 rows** (movies entered).\n",
    "- **20 columns** (categories of data) for each obs.\n",
    "- Can't confirm all of our datatype assumptions.\n",
    "    - <i>All known data types are **orange in the dictionary**. </i>\n",
    "    - <i>Other datatypes might need conversion prior to analysis.</i>\n",
    "- Null values are present in tagline (3959), runtime (4801), homepage (1712), overview (4800) and the release_date (4802) columns.\n"
   ]
  },
  {
   "cell_type": "markdown",
   "id": "21cd9045-f85b-465e-8f6f-970c5ea1fcbe",
   "metadata": {
    "jp-MarkdownHeadingCollapsed": true,
    "tags": []
   },
   "source": [
    "##### <span style = \"color:#0C7BDC\"> **Code** </span>"
   ]
  },
  {
   "cell_type": "code",
   "execution_count": 27,
   "id": "d30a366e-cd0b-4c80-851e-860b93ac9ef0",
   "metadata": {},
   "outputs": [
    {
     "name": "stdout",
     "output_type": "stream",
     "text": [
      "<class 'pandas.core.frame.DataFrame'>\n",
      "RangeIndex: 4803 entries, 0 to 4802\n",
      "Data columns (total 20 columns):\n",
      " #   Column                Non-Null Count  Dtype  \n",
      "---  ------                --------------  -----  \n",
      " 0   budget                4803 non-null   int64  \n",
      " 1   genres                4803 non-null   object \n",
      " 2   homepage              1712 non-null   object \n",
      " 3   id                    4803 non-null   int64  \n",
      " 4   keywords              4803 non-null   object \n",
      " 5   original_language     4803 non-null   object \n",
      " 6   original_title        4803 non-null   object \n",
      " 7   overview              4800 non-null   object \n",
      " 8   popularity            4803 non-null   float64\n",
      " 9   production_companies  4803 non-null   object \n",
      " 10  production_countries  4803 non-null   object \n",
      " 11  release_date          4802 non-null   object \n",
      " 12  revenue               4803 non-null   int64  \n",
      " 13  runtime               4801 non-null   float64\n",
      " 14  spoken_languages      4803 non-null   object \n",
      " 15  status                4803 non-null   object \n",
      " 16  tagline               3959 non-null   object \n",
      " 17  title                 4803 non-null   object \n",
      " 18  vote_average          4803 non-null   float64\n",
      " 19  vote_count            4803 non-null   int64  \n",
      "dtypes: float64(3), int64(4), object(13)\n",
      "memory usage: 750.6+ KB\n"
     ]
    }
   ],
   "source": [
    "# USE pandas.info TO GAIN INSIGHT INTO EACH COLUMN\n",
    "df.info()"
   ]
  },
  {
   "cell_type": "code",
   "execution_count": 26,
   "id": "6d6be328-899d-4f0d-afe7-7ac26d71dfa5",
   "metadata": {},
   "outputs": [
    {
     "data": {
      "text/plain": [
       "<bound method NDFrame.describe of          budget                                             genres  \\\n",
       "0     237000000  [{\"id\": 28, \"name\": \"Action\"}, {\"id\": 12, \"nam...   \n",
       "1     300000000  [{\"id\": 12, \"name\": \"Adventure\"}, {\"id\": 14, \"...   \n",
       "2     245000000  [{\"id\": 28, \"name\": \"Action\"}, {\"id\": 12, \"nam...   \n",
       "3     250000000  [{\"id\": 28, \"name\": \"Action\"}, {\"id\": 80, \"nam...   \n",
       "4     260000000  [{\"id\": 28, \"name\": \"Action\"}, {\"id\": 12, \"nam...   \n",
       "...         ...                                                ...   \n",
       "4798     220000  [{\"id\": 28, \"name\": \"Action\"}, {\"id\": 80, \"nam...   \n",
       "4799       9000  [{\"id\": 35, \"name\": \"Comedy\"}, {\"id\": 10749, \"...   \n",
       "4800          0  [{\"id\": 35, \"name\": \"Comedy\"}, {\"id\": 18, \"nam...   \n",
       "4801          0                                                 []   \n",
       "4802          0                [{\"id\": 99, \"name\": \"Documentary\"}]   \n",
       "\n",
       "                                               homepage      id  \\\n",
       "0                           http://www.avatarmovie.com/   19995   \n",
       "1          http://disney.go.com/disneypictures/pirates/     285   \n",
       "2           http://www.sonypictures.com/movies/spectre/  206647   \n",
       "3                    http://www.thedarkknightrises.com/   49026   \n",
       "4                  http://movies.disney.com/john-carter   49529   \n",
       "...                                                 ...     ...   \n",
       "4798                                                NaN    9367   \n",
       "4799                                                NaN   72766   \n",
       "4800  http://www.hallmarkchannel.com/signedsealeddel...  231617   \n",
       "4801                        http://shanghaicalling.com/  126186   \n",
       "4802                                                NaN   25975   \n",
       "\n",
       "                                               keywords original_language  \\\n",
       "0     [{\"id\": 1463, \"name\": \"culture clash\"}, {\"id\":...                en   \n",
       "1     [{\"id\": 270, \"name\": \"ocean\"}, {\"id\": 726, \"na...                en   \n",
       "2     [{\"id\": 470, \"name\": \"spy\"}, {\"id\": 818, \"name...                en   \n",
       "3     [{\"id\": 849, \"name\": \"dc comics\"}, {\"id\": 853,...                en   \n",
       "4     [{\"id\": 818, \"name\": \"based on novel\"}, {\"id\":...                en   \n",
       "...                                                 ...               ...   \n",
       "4798  [{\"id\": 5616, \"name\": \"united states\\u2013mexi...                es   \n",
       "4799                                                 []                en   \n",
       "4800  [{\"id\": 248, \"name\": \"date\"}, {\"id\": 699, \"nam...                en   \n",
       "4801                                                 []                en   \n",
       "4802  [{\"id\": 1523, \"name\": \"obsession\"}, {\"id\": 224...                en   \n",
       "\n",
       "                                original_title  \\\n",
       "0                                       Avatar   \n",
       "1     Pirates of the Caribbean: At World's End   \n",
       "2                                      Spectre   \n",
       "3                        The Dark Knight Rises   \n",
       "4                                  John Carter   \n",
       "...                                        ...   \n",
       "4798                               El Mariachi   \n",
       "4799                                 Newlyweds   \n",
       "4800                 Signed, Sealed, Delivered   \n",
       "4801                          Shanghai Calling   \n",
       "4802                         My Date with Drew   \n",
       "\n",
       "                                               overview  popularity  \\\n",
       "0     In the 22nd century, a paraplegic Marine is di...  150.437577   \n",
       "1     Captain Barbossa, long believed to be dead, ha...  139.082615   \n",
       "2     A cryptic message from Bond’s past sends him o...  107.376788   \n",
       "3     Following the death of District Attorney Harve...  112.312950   \n",
       "4     John Carter is a war-weary, former military ca...   43.926995   \n",
       "...                                                 ...         ...   \n",
       "4798  El Mariachi just wants to play his guitar and ...   14.269792   \n",
       "4799  A newlywed couple's honeymoon is upended by th...    0.642552   \n",
       "4800  \"Signed, Sealed, Delivered\" introduces a dedic...    1.444476   \n",
       "4801  When ambitious New York attorney Sam is sent t...    0.857008   \n",
       "4802  Ever since the second grade when he first saw ...    1.929883   \n",
       "\n",
       "                                   production_companies  \\\n",
       "0     [{\"name\": \"Ingenious Film Partners\", \"id\": 289...   \n",
       "1     [{\"name\": \"Walt Disney Pictures\", \"id\": 2}, {\"...   \n",
       "2     [{\"name\": \"Columbia Pictures\", \"id\": 5}, {\"nam...   \n",
       "3     [{\"name\": \"Legendary Pictures\", \"id\": 923}, {\"...   \n",
       "4           [{\"name\": \"Walt Disney Pictures\", \"id\": 2}]   \n",
       "...                                                 ...   \n",
       "4798           [{\"name\": \"Columbia Pictures\", \"id\": 5}]   \n",
       "4799                                                 []   \n",
       "4800  [{\"name\": \"Front Street Pictures\", \"id\": 3958}...   \n",
       "4801                                                 []   \n",
       "4802  [{\"name\": \"rusty bear entertainment\", \"id\": 87...   \n",
       "\n",
       "                                   production_countries release_date  \\\n",
       "0     [{\"iso_3166_1\": \"US\", \"name\": \"United States o...   2009-12-10   \n",
       "1     [{\"iso_3166_1\": \"US\", \"name\": \"United States o...   2007-05-19   \n",
       "2     [{\"iso_3166_1\": \"GB\", \"name\": \"United Kingdom\"...   2015-10-26   \n",
       "3     [{\"iso_3166_1\": \"US\", \"name\": \"United States o...   2012-07-16   \n",
       "4     [{\"iso_3166_1\": \"US\", \"name\": \"United States o...   2012-03-07   \n",
       "...                                                 ...          ...   \n",
       "4798  [{\"iso_3166_1\": \"MX\", \"name\": \"Mexico\"}, {\"iso...   1992-09-04   \n",
       "4799                                                 []   2011-12-26   \n",
       "4800  [{\"iso_3166_1\": \"US\", \"name\": \"United States o...   2013-10-13   \n",
       "4801  [{\"iso_3166_1\": \"US\", \"name\": \"United States o...   2012-05-03   \n",
       "4802  [{\"iso_3166_1\": \"US\", \"name\": \"United States o...   2005-08-05   \n",
       "\n",
       "         revenue  runtime                                   spoken_languages  \\\n",
       "0     2787965087    162.0  [{\"iso_639_1\": \"en\", \"name\": \"English\"}, {\"iso...   \n",
       "1      961000000    169.0           [{\"iso_639_1\": \"en\", \"name\": \"English\"}]   \n",
       "2      880674609    148.0  [{\"iso_639_1\": \"fr\", \"name\": \"Fran\\u00e7ais\"},...   \n",
       "3     1084939099    165.0           [{\"iso_639_1\": \"en\", \"name\": \"English\"}]   \n",
       "4      284139100    132.0           [{\"iso_639_1\": \"en\", \"name\": \"English\"}]   \n",
       "...          ...      ...                                                ...   \n",
       "4798     2040920     81.0      [{\"iso_639_1\": \"es\", \"name\": \"Espa\\u00f1ol\"}]   \n",
       "4799           0     85.0                                                 []   \n",
       "4800           0    120.0           [{\"iso_639_1\": \"en\", \"name\": \"English\"}]   \n",
       "4801           0     98.0           [{\"iso_639_1\": \"en\", \"name\": \"English\"}]   \n",
       "4802           0     90.0           [{\"iso_639_1\": \"en\", \"name\": \"English\"}]   \n",
       "\n",
       "        status                                            tagline  \\\n",
       "0     Released                        Enter the World of Pandora.   \n",
       "1     Released     At the end of the world, the adventure begins.   \n",
       "2     Released                              A Plan No One Escapes   \n",
       "3     Released                                    The Legend Ends   \n",
       "4     Released               Lost in our world, found in another.   \n",
       "...        ...                                                ...   \n",
       "4798  Released  He didn't come looking for trouble, but troubl...   \n",
       "4799  Released  A newlywed couple's honeymoon is upended by th...   \n",
       "4800  Released                                                NaN   \n",
       "4801  Released                           A New Yorker in Shanghai   \n",
       "4802  Released                                                NaN   \n",
       "\n",
       "                                         title  vote_average  vote_count  \n",
       "0                                       Avatar           7.2       11800  \n",
       "1     Pirates of the Caribbean: At World's End           6.9        4500  \n",
       "2                                      Spectre           6.3        4466  \n",
       "3                        The Dark Knight Rises           7.6        9106  \n",
       "4                                  John Carter           6.1        2124  \n",
       "...                                        ...           ...         ...  \n",
       "4798                               El Mariachi           6.6         238  \n",
       "4799                                 Newlyweds           5.9           5  \n",
       "4800                 Signed, Sealed, Delivered           7.0           6  \n",
       "4801                          Shanghai Calling           5.7           7  \n",
       "4802                         My Date with Drew           6.3          16  \n",
       "\n",
       "[4803 rows x 20 columns]>"
      ]
     },
     "execution_count": 26,
     "metadata": {},
     "output_type": "execute_result"
    }
   ],
   "source": [
    "# USE pandas.describe TO GAIN INSIGHT INTO...\n",
    "df.describe"
   ]
  },
  {
   "cell_type": "markdown",
   "id": "e0254902-1207-485a-a4dd-a521f29238c2",
   "metadata": {
    "tags": []
   },
   "source": [
    "### <span style = \"color:#E66100\"> Addressing Gaps in the Data </span>"
   ]
  },
  {
   "cell_type": "markdown",
   "id": "1dd43485-72cd-4a7a-9612-1ba470752a96",
   "metadata": {
    "jp-MarkdownHeadingCollapsed": true,
    "tags": []
   },
   "source": [
    "#### <span style = \"color:#E66100\"> **Insights** </span>"
   ]
  },
  {
   "cell_type": "markdown",
   "id": "b18f49e2-cc15-416d-a8f7-1c02c0e5d3b7",
   "metadata": {},
   "source": [
    "<u>Before Changes:</u>\n",
    "**# Rows Missing Data:** 3310\n",
    "\n",
    "**# Rows Missing Data Per Column:**\n",
    "- **homepage:** 3091 \n",
    "- **overview:** 3\n",
    "- **release_date:** 1\n",
    "- **runtime:** 2\n",
    "- **tagline:** 844\n",
    "\n",
    "<u>After Changes:</u>\n",
    "**# Rows Missing Data:** 3395\n",
    "\n",
    "**# Rows Missing Data Per Column:**\n",
    "- **genres:** 27\n",
    "- **homepage:** 3090 \n",
    "- **keywords:** 411 \n",
    "- **overview:** 3\n",
    "- **production_companies:** 350\n",
    "- **production_countries:** 173\n",
    "- **spoken_languages:** 85\n",
    "- **release_date:** 0\n",
    "- **runtime:** 0\n",
    "- **tagline:** 843"
   ]
  },
  {
   "cell_type": "markdown",
   "id": "08d2b849-2282-4599-af75-b5eddec0e096",
   "metadata": {
    "tags": []
   },
   "source": [
    "#### <span style = \"color:#E66100\"> **Actions Taken** </span>"
   ]
  },
  {
   "cell_type": "markdown",
   "id": "1ac11033-f86e-4191-bef2-4707103c149d",
   "metadata": {},
   "source": [
    "- **Nulls** in homepage, <u>tagline, overview, spoken_languages, genres, keywords, production_companies and production_countries </u> left.\n",
    "    - **This data could be collected** from internet sources, potentially by webscraping. However, this is outside the scope \n",
    "    of this analysis.\n",
    "- **Entry 2656:** <i>Runtime for \"Chiamatemi Francesco - Il Papa della gente\" was entered manually - **id:** 370980</i>\n",
    "    - 96 minutes, **Source:** https://www.imdb.com/title/tt3856124/ \n",
    "- **Entry 4140:** <i>Runtime for \"To Be Frank, Sinatra at 100 was entered manually - **id:** 459488</i>\n",
    "    - 81 minutes, **Source:** https://www.imdb.com/title/tt4\"704314/\n",
    "- **Entry 4553:** <i>\"America is Still the Place\" removed and considered outlier - **id:** 380097</i>\n",
    "    - Released but no release date.\n",
    "    - No budget.\n",
    "    - No genres.\n",
    "    - No votes.\n",
    "- Columns that contained null values represented differently were converted to null using np.nan.\n",
    "    -I.e. a lack of data in **keywords** is represented as the following string **\"[]\"**."
   ]
  },
  {
   "cell_type": "markdown",
   "id": "bb69f4b0-b304-42c4-8478-d6aad6f268fb",
   "metadata": {
    "jp-MarkdownHeadingCollapsed": true,
    "tags": []
   },
   "source": [
    "##### <span style = \"color:#0C7BDC\"> **Code** </span>"
   ]
  },
  {
   "cell_type": "markdown",
   "id": "a34bda26-e777-4e02-ab91-ce6e5caada0c",
   "metadata": {
    "jp-MarkdownHeadingCollapsed": true,
    "tags": []
   },
   "source": [
    "###### Checks: Prior to replacing '[]' with np.nan"
   ]
  },
  {
   "cell_type": "code",
   "execution_count": 48,
   "id": "a8daf991-ff02-4885-a52c-aa73d9752744",
   "metadata": {},
   "outputs": [],
   "source": [
    "# Generate a copy of the original dataframe to manipulate and analyse.\n",
    "# df2 = df.copy()"
   ]
  },
  {
   "cell_type": "code",
   "execution_count": 49,
   "id": "34e1af47-77e6-4b37-a875-a735f8142b3b",
   "metadata": {},
   "outputs": [],
   "source": [
    "# RETURN EVERY OBSERVATION CONTAINING A NULL VALUE\n",
    "# missing_values = df2[df2.isnull().any(axis=1)]"
   ]
  },
  {
   "cell_type": "code",
   "execution_count": 50,
   "id": "b58e52fd-c82f-4afa-8461-0a54b99b1c58",
   "metadata": {},
   "outputs": [
    {
     "data": {
      "text/plain": [
       "3310"
      ]
     },
     "execution_count": 50,
     "metadata": {},
     "output_type": "execute_result"
    }
   ],
   "source": [
    "#COUNT THE TOTAL NUMBER OF ENTRIES CONTAINING A MISSING VALUE\n",
    "# len(missing_values)"
   ]
  },
  {
   "cell_type": "code",
   "execution_count": 51,
   "id": "43feb1d4-ee21-43e9-87bc-dd5dd41a8e12",
   "metadata": {},
   "outputs": [
    {
     "data": {
      "text/plain": [
       "budget                     0\n",
       "genres                     0\n",
       "homepage                3091\n",
       "id                         0\n",
       "keywords                   0\n",
       "original_language          0\n",
       "original_title             0\n",
       "overview                   3\n",
       "popularity                 0\n",
       "production_companies       0\n",
       "production_countries       0\n",
       "release_date               1\n",
       "revenue                    0\n",
       "runtime                    2\n",
       "spoken_languages           0\n",
       "status                     0\n",
       "tagline                  844\n",
       "title                      0\n",
       "vote_average               0\n",
       "vote_count                 0\n",
       "dtype: int64"
      ]
     },
     "execution_count": 51,
     "metadata": {},
     "output_type": "execute_result"
    }
   ],
   "source": [
    "#COUNTING NULLS PER COLUMN\n",
    "# df2.isnull().sum()"
   ]
  },
  {
   "cell_type": "code",
   "execution_count": 60,
   "id": "e3240940-6520-48dd-b53a-dd5810579389",
   "metadata": {},
   "outputs": [
    {
     "data": {
      "text/html": [
       "<div>\n",
       "<style scoped>\n",
       "    .dataframe tbody tr th:only-of-type {\n",
       "        vertical-align: middle;\n",
       "    }\n",
       "\n",
       "    .dataframe tbody tr th {\n",
       "        vertical-align: top;\n",
       "    }\n",
       "\n",
       "    .dataframe thead th {\n",
       "        text-align: right;\n",
       "    }\n",
       "</style>\n",
       "<table border=\"1\" class=\"dataframe\">\n",
       "  <thead>\n",
       "    <tr style=\"text-align: right;\">\n",
       "      <th></th>\n",
       "      <th>budget</th>\n",
       "      <th>genres</th>\n",
       "      <th>homepage</th>\n",
       "      <th>id</th>\n",
       "      <th>keywords</th>\n",
       "      <th>original_language</th>\n",
       "      <th>original_title</th>\n",
       "      <th>overview</th>\n",
       "      <th>popularity</th>\n",
       "      <th>production_companies</th>\n",
       "      <th>production_countries</th>\n",
       "      <th>release_date</th>\n",
       "      <th>revenue</th>\n",
       "      <th>runtime</th>\n",
       "      <th>spoken_languages</th>\n",
       "      <th>status</th>\n",
       "      <th>tagline</th>\n",
       "      <th>title</th>\n",
       "      <th>vote_average</th>\n",
       "      <th>vote_count</th>\n",
       "    </tr>\n",
       "  </thead>\n",
       "  <tbody>\n",
       "    <tr>\n",
       "      <th>4553</th>\n",
       "      <td>0</td>\n",
       "      <td>[]</td>\n",
       "      <td>NaN</td>\n",
       "      <td>380097</td>\n",
       "      <td>[]</td>\n",
       "      <td>en</td>\n",
       "      <td>America Is Still the Place</td>\n",
       "      <td>1971 post civil rights San Francisco seemed li...</td>\n",
       "      <td>0.0</td>\n",
       "      <td>[]</td>\n",
       "      <td>[]</td>\n",
       "      <td>NaN</td>\n",
       "      <td>0</td>\n",
       "      <td>0.0</td>\n",
       "      <td>[]</td>\n",
       "      <td>Released</td>\n",
       "      <td>NaN</td>\n",
       "      <td>America Is Still the Place</td>\n",
       "      <td>0.0</td>\n",
       "      <td>0</td>\n",
       "    </tr>\n",
       "  </tbody>\n",
       "</table>\n",
       "</div>"
      ],
      "text/plain": [
       "      budget genres homepage      id keywords original_language  \\\n",
       "4553       0     []      NaN  380097       []                en   \n",
       "\n",
       "                  original_title  \\\n",
       "4553  America Is Still the Place   \n",
       "\n",
       "                                               overview  popularity  \\\n",
       "4553  1971 post civil rights San Francisco seemed li...         0.0   \n",
       "\n",
       "     production_companies production_countries release_date  revenue  runtime  \\\n",
       "4553                   []                   []          NaN        0      0.0   \n",
       "\n",
       "     spoken_languages    status tagline                       title  \\\n",
       "4553               []  Released     NaN  America Is Still the Place   \n",
       "\n",
       "      vote_average  vote_count  \n",
       "4553           0.0           0  "
      ]
     },
     "execution_count": 60,
     "metadata": {},
     "output_type": "execute_result"
    }
   ],
   "source": [
    "#INSPECT NULL VALUES per COLUMN\n",
    "column = 'release_date'\n",
    "df2[df2[column].isnull()]"
   ]
  },
  {
   "cell_type": "markdown",
   "id": "4ca3ff61-891b-4329-93f6-1eb1e30b87e7",
   "metadata": {
    "tags": []
   },
   "source": [
    "###### Checks: After replacing '[]' with np.nan"
   ]
  },
  {
   "cell_type": "code",
   "execution_count": 162,
   "id": "d3928483-ce34-416d-a620-bad8296e276c",
   "metadata": {},
   "outputs": [
    {
     "data": {
      "text/plain": [
       "3395"
      ]
     },
     "execution_count": 162,
     "metadata": {},
     "output_type": "execute_result"
    }
   ],
   "source": [
    "missing_values = df2[df2.isnull().any(axis=1)]\n",
    "len(missing_values)"
   ]
  },
  {
   "cell_type": "code",
   "execution_count": 181,
   "id": "9019bb0b-b40f-4ea4-96aa-6fe9ed54bb66",
   "metadata": {},
   "outputs": [
    {
     "data": {
      "text/plain": [
       "budget                     0\n",
       "genres                    27\n",
       "homepage                3090\n",
       "id                         0\n",
       "keywords                 411\n",
       "original_language          0\n",
       "original_title             0\n",
       "overview                   3\n",
       "popularity                 0\n",
       "production_companies     350\n",
       "production_countries     173\n",
       "release_date               0\n",
       "revenue                    0\n",
       "runtime                    0\n",
       "spoken_languages          85\n",
       "status                     0\n",
       "tagline                  843\n",
       "title                      0\n",
       "vote_average               0\n",
       "vote_count                 0\n",
       "dtype: int64"
      ]
     },
     "execution_count": 181,
     "metadata": {},
     "output_type": "execute_result"
    }
   ],
   "source": [
    "df2.isnull().sum()"
   ]
  },
  {
   "cell_type": "code",
   "execution_count": 170,
   "id": "51df5526-bae9-47ae-ba2e-2d411a6a31c0",
   "metadata": {},
   "outputs": [
    {
     "data": {
      "text/html": [
       "<div>\n",
       "<style scoped>\n",
       "    .dataframe tbody tr th:only-of-type {\n",
       "        vertical-align: middle;\n",
       "    }\n",
       "\n",
       "    .dataframe tbody tr th {\n",
       "        vertical-align: top;\n",
       "    }\n",
       "\n",
       "    .dataframe thead th {\n",
       "        text-align: right;\n",
       "    }\n",
       "</style>\n",
       "<table border=\"1\" class=\"dataframe\">\n",
       "  <thead>\n",
       "    <tr style=\"text-align: right;\">\n",
       "      <th></th>\n",
       "      <th>budget</th>\n",
       "      <th>genres</th>\n",
       "      <th>homepage</th>\n",
       "      <th>id</th>\n",
       "      <th>keywords</th>\n",
       "      <th>original_language</th>\n",
       "      <th>original_title</th>\n",
       "      <th>overview</th>\n",
       "      <th>popularity</th>\n",
       "      <th>production_companies</th>\n",
       "      <th>production_countries</th>\n",
       "      <th>release_date</th>\n",
       "      <th>revenue</th>\n",
       "      <th>runtime</th>\n",
       "      <th>spoken_languages</th>\n",
       "      <th>status</th>\n",
       "      <th>tagline</th>\n",
       "      <th>title</th>\n",
       "      <th>vote_average</th>\n",
       "      <th>vote_count</th>\n",
       "    </tr>\n",
       "  </thead>\n",
       "  <tbody>\n",
       "    <tr>\n",
       "      <th>71</th>\n",
       "      <td>145000000</td>\n",
       "      <td>[{\"id\": 12, \"name\": \"Adventure\"}, {\"id\": 28, \"...</td>\n",
       "      <td>http://www.themummy.com/</td>\n",
       "      <td>1735</td>\n",
       "      <td>NaN</td>\n",
       "      <td>en</td>\n",
       "      <td>The Mummy: Tomb of the Dragon Emperor</td>\n",
       "      <td>Archaeologist Rick O'Connell travels to China,...</td>\n",
       "      <td>60.034162</td>\n",
       "      <td>[{\"name\": \"Universal Pictures\", \"id\": 33}, {\"n...</td>\n",
       "      <td>[{\"iso_3166_1\": \"DE\", \"name\": \"Germany\"}, {\"is...</td>\n",
       "      <td>2008-07-01</td>\n",
       "      <td>401128639</td>\n",
       "      <td>112.0</td>\n",
       "      <td>[{\"iso_639_1\": \"en\", \"name\": \"English\"}, {\"iso...</td>\n",
       "      <td>Released</td>\n",
       "      <td>A New Evil Awakens.</td>\n",
       "      <td>The Mummy: Tomb of the Dragon Emperor</td>\n",
       "      <td>5.2</td>\n",
       "      <td>1387</td>\n",
       "    </tr>\n",
       "    <tr>\n",
       "      <th>83</th>\n",
       "      <td>27000000</td>\n",
       "      <td>[{\"id\": 28, \"name\": \"Action\"}, {\"id\": 12, \"nam...</td>\n",
       "      <td>NaN</td>\n",
       "      <td>79698</td>\n",
       "      <td>NaN</td>\n",
       "      <td>en</td>\n",
       "      <td>The Lovers</td>\n",
       "      <td>The Lovers is an epic romance time travel adve...</td>\n",
       "      <td>2.418535</td>\n",
       "      <td>[{\"name\": \"Corsan\", \"id\": 7299}, {\"name\": \"Bli...</td>\n",
       "      <td>[{\"iso_3166_1\": \"AU\", \"name\": \"Australia\"}, {\"...</td>\n",
       "      <td>2015-02-13</td>\n",
       "      <td>0</td>\n",
       "      <td>109.0</td>\n",
       "      <td>[{\"iso_639_1\": \"en\", \"name\": \"English\"}]</td>\n",
       "      <td>Released</td>\n",
       "      <td>Love is longer than life.</td>\n",
       "      <td>The Lovers</td>\n",
       "      <td>4.8</td>\n",
       "      <td>34</td>\n",
       "    </tr>\n",
       "    <tr>\n",
       "      <th>323</th>\n",
       "      <td>100000000</td>\n",
       "      <td>[{\"id\": 35, \"name\": \"Comedy\"}, {\"id\": 18, \"nam...</td>\n",
       "      <td>http://www.sexandthecitymovie.com/</td>\n",
       "      <td>37786</td>\n",
       "      <td>NaN</td>\n",
       "      <td>en</td>\n",
       "      <td>Sex and the City 2</td>\n",
       "      <td>Carrie, Charlotte, and Miranda are all married...</td>\n",
       "      <td>18.325897</td>\n",
       "      <td>[{\"name\": \"New Line Cinema\", \"id\": 12}, {\"name...</td>\n",
       "      <td>[{\"iso_3166_1\": \"US\", \"name\": \"United States o...</td>\n",
       "      <td>2010-05-26</td>\n",
       "      <td>288347692</td>\n",
       "      <td>146.0</td>\n",
       "      <td>[{\"iso_639_1\": \"en\", \"name\": \"English\"}, {\"iso...</td>\n",
       "      <td>Released</td>\n",
       "      <td>Carrie on.</td>\n",
       "      <td>Sex and the City 2</td>\n",
       "      <td>5.4</td>\n",
       "      <td>426</td>\n",
       "    </tr>\n",
       "    <tr>\n",
       "      <th>381</th>\n",
       "      <td>90000000</td>\n",
       "      <td>[{\"id\": 14, \"name\": \"Fantasy\"}, {\"id\": 28, \"na...</td>\n",
       "      <td>http://www.nutcrackerin3d.com/</td>\n",
       "      <td>49852</td>\n",
       "      <td>NaN</td>\n",
       "      <td>en</td>\n",
       "      <td>The Nutcracker: The Untold Story</td>\n",
       "      <td>Set in 1920's Vienna, this a tale of a little ...</td>\n",
       "      <td>3.593349</td>\n",
       "      <td>[{\"name\": \"Vnesheconombank\", \"id\": 24013}, {\"n...</td>\n",
       "      <td>[{\"iso_3166_1\": \"GB\", \"name\": \"United Kingdom\"...</td>\n",
       "      <td>2010-11-24</td>\n",
       "      <td>16178959</td>\n",
       "      <td>110.0</td>\n",
       "      <td>[{\"iso_639_1\": \"da\", \"name\": \"Dansk\"}, {\"iso_6...</td>\n",
       "      <td>Released</td>\n",
       "      <td>NaN</td>\n",
       "      <td>The Nutcracker: The Untold Story</td>\n",
       "      <td>5.4</td>\n",
       "      <td>50</td>\n",
       "    </tr>\n",
       "    <tr>\n",
       "      <th>436</th>\n",
       "      <td>80000000</td>\n",
       "      <td>[{\"id\": 35, \"name\": \"Comedy\"}]</td>\n",
       "      <td>http://www.sonypictures.com/movies/grownups2</td>\n",
       "      <td>109418</td>\n",
       "      <td>NaN</td>\n",
       "      <td>en</td>\n",
       "      <td>Grown Ups 2</td>\n",
       "      <td>The all-star comedy cast from Grown Ups return...</td>\n",
       "      <td>45.589568</td>\n",
       "      <td>[{\"name\": \"Columbia Pictures\", \"id\": 5}, {\"nam...</td>\n",
       "      <td>[{\"iso_3166_1\": \"US\", \"name\": \"United States o...</td>\n",
       "      <td>2013-07-11</td>\n",
       "      <td>246984278</td>\n",
       "      <td>100.0</td>\n",
       "      <td>[{\"iso_639_1\": \"en\", \"name\": \"English\"}]</td>\n",
       "      <td>Released</td>\n",
       "      <td>Just because they're a little older doesn't me...</td>\n",
       "      <td>Grown Ups 2</td>\n",
       "      <td>5.8</td>\n",
       "      <td>1155</td>\n",
       "    </tr>\n",
       "    <tr>\n",
       "      <th>...</th>\n",
       "      <td>...</td>\n",
       "      <td>...</td>\n",
       "      <td>...</td>\n",
       "      <td>...</td>\n",
       "      <td>...</td>\n",
       "      <td>...</td>\n",
       "      <td>...</td>\n",
       "      <td>...</td>\n",
       "      <td>...</td>\n",
       "      <td>...</td>\n",
       "      <td>...</td>\n",
       "      <td>...</td>\n",
       "      <td>...</td>\n",
       "      <td>...</td>\n",
       "      <td>...</td>\n",
       "      <td>...</td>\n",
       "      <td>...</td>\n",
       "      <td>...</td>\n",
       "      <td>...</td>\n",
       "      <td>...</td>\n",
       "    </tr>\n",
       "    <tr>\n",
       "      <th>4790</th>\n",
       "      <td>0</td>\n",
       "      <td>[{\"id\": 18, \"name\": \"Drama\"}, {\"id\": 10769, \"n...</td>\n",
       "      <td>NaN</td>\n",
       "      <td>13898</td>\n",
       "      <td>NaN</td>\n",
       "      <td>fa</td>\n",
       "      <td>دایره</td>\n",
       "      <td>Various women struggle to function in the oppr...</td>\n",
       "      <td>1.193779</td>\n",
       "      <td>[{\"name\": \"Jafar Panahi Film Productions\", \"id...</td>\n",
       "      <td>[{\"iso_3166_1\": \"IR\", \"name\": \"Iran\"}]</td>\n",
       "      <td>2000-09-08</td>\n",
       "      <td>0</td>\n",
       "      <td>90.0</td>\n",
       "      <td>[{\"iso_639_1\": \"fa\", \"name\": \"\\u0641\\u0627\\u06...</td>\n",
       "      <td>Released</td>\n",
       "      <td>NaN</td>\n",
       "      <td>The Circle</td>\n",
       "      <td>6.6</td>\n",
       "      <td>17</td>\n",
       "    </tr>\n",
       "    <tr>\n",
       "      <th>4794</th>\n",
       "      <td>0</td>\n",
       "      <td>[{\"id\": 53, \"name\": \"Thriller\"}, {\"id\": 27, \"n...</td>\n",
       "      <td>NaN</td>\n",
       "      <td>286939</td>\n",
       "      <td>NaN</td>\n",
       "      <td>en</td>\n",
       "      <td>Sanctuary: Quite a Conundrum</td>\n",
       "      <td>It should have been just a normal day of sex, ...</td>\n",
       "      <td>0.166513</td>\n",
       "      <td>[{\"name\": \"Gold Lion Films\", \"id\": 37870}, {\"n...</td>\n",
       "      <td>[{\"iso_3166_1\": \"US\", \"name\": \"United States o...</td>\n",
       "      <td>2012-01-20</td>\n",
       "      <td>0</td>\n",
       "      <td>82.0</td>\n",
       "      <td>[{\"iso_639_1\": \"en\", \"name\": \"English\"}]</td>\n",
       "      <td>Released</td>\n",
       "      <td>NaN</td>\n",
       "      <td>Sanctuary: Quite a Conundrum</td>\n",
       "      <td>0.0</td>\n",
       "      <td>0</td>\n",
       "    </tr>\n",
       "    <tr>\n",
       "      <th>4797</th>\n",
       "      <td>0</td>\n",
       "      <td>[{\"id\": 10769, \"name\": \"Foreign\"}, {\"id\": 53, ...</td>\n",
       "      <td>NaN</td>\n",
       "      <td>67238</td>\n",
       "      <td>NaN</td>\n",
       "      <td>en</td>\n",
       "      <td>Cavite</td>\n",
       "      <td>Adam, a security guard, travels from Californi...</td>\n",
       "      <td>0.022173</td>\n",
       "      <td>NaN</td>\n",
       "      <td>NaN</td>\n",
       "      <td>2005-03-12</td>\n",
       "      <td>0</td>\n",
       "      <td>80.0</td>\n",
       "      <td>NaN</td>\n",
       "      <td>Released</td>\n",
       "      <td>NaN</td>\n",
       "      <td>Cavite</td>\n",
       "      <td>7.5</td>\n",
       "      <td>2</td>\n",
       "    </tr>\n",
       "    <tr>\n",
       "      <th>4799</th>\n",
       "      <td>9000</td>\n",
       "      <td>[{\"id\": 35, \"name\": \"Comedy\"}, {\"id\": 10749, \"...</td>\n",
       "      <td>NaN</td>\n",
       "      <td>72766</td>\n",
       "      <td>NaN</td>\n",
       "      <td>en</td>\n",
       "      <td>Newlyweds</td>\n",
       "      <td>A newlywed couple's honeymoon is upended by th...</td>\n",
       "      <td>0.642552</td>\n",
       "      <td>NaN</td>\n",
       "      <td>NaN</td>\n",
       "      <td>2011-12-26</td>\n",
       "      <td>0</td>\n",
       "      <td>85.0</td>\n",
       "      <td>NaN</td>\n",
       "      <td>Released</td>\n",
       "      <td>A newlywed couple's honeymoon is upended by th...</td>\n",
       "      <td>Newlyweds</td>\n",
       "      <td>5.9</td>\n",
       "      <td>5</td>\n",
       "    </tr>\n",
       "    <tr>\n",
       "      <th>4801</th>\n",
       "      <td>0</td>\n",
       "      <td>NaN</td>\n",
       "      <td>http://shanghaicalling.com/</td>\n",
       "      <td>126186</td>\n",
       "      <td>NaN</td>\n",
       "      <td>en</td>\n",
       "      <td>Shanghai Calling</td>\n",
       "      <td>When ambitious New York attorney Sam is sent t...</td>\n",
       "      <td>0.857008</td>\n",
       "      <td>NaN</td>\n",
       "      <td>[{\"iso_3166_1\": \"US\", \"name\": \"United States o...</td>\n",
       "      <td>2012-05-03</td>\n",
       "      <td>0</td>\n",
       "      <td>98.0</td>\n",
       "      <td>[{\"iso_639_1\": \"en\", \"name\": \"English\"}]</td>\n",
       "      <td>Released</td>\n",
       "      <td>A New Yorker in Shanghai</td>\n",
       "      <td>Shanghai Calling</td>\n",
       "      <td>5.7</td>\n",
       "      <td>7</td>\n",
       "    </tr>\n",
       "  </tbody>\n",
       "</table>\n",
       "<p>411 rows × 20 columns</p>\n",
       "</div>"
      ],
      "text/plain": [
       "         budget                                             genres  \\\n",
       "71    145000000  [{\"id\": 12, \"name\": \"Adventure\"}, {\"id\": 28, \"...   \n",
       "83     27000000  [{\"id\": 28, \"name\": \"Action\"}, {\"id\": 12, \"nam...   \n",
       "323   100000000  [{\"id\": 35, \"name\": \"Comedy\"}, {\"id\": 18, \"nam...   \n",
       "381    90000000  [{\"id\": 14, \"name\": \"Fantasy\"}, {\"id\": 28, \"na...   \n",
       "436    80000000                     [{\"id\": 35, \"name\": \"Comedy\"}]   \n",
       "...         ...                                                ...   \n",
       "4790          0  [{\"id\": 18, \"name\": \"Drama\"}, {\"id\": 10769, \"n...   \n",
       "4794          0  [{\"id\": 53, \"name\": \"Thriller\"}, {\"id\": 27, \"n...   \n",
       "4797          0  [{\"id\": 10769, \"name\": \"Foreign\"}, {\"id\": 53, ...   \n",
       "4799       9000  [{\"id\": 35, \"name\": \"Comedy\"}, {\"id\": 10749, \"...   \n",
       "4801          0                                                NaN   \n",
       "\n",
       "                                          homepage      id keywords  \\\n",
       "71                        http://www.themummy.com/    1735      NaN   \n",
       "83                                             NaN   79698      NaN   \n",
       "323             http://www.sexandthecitymovie.com/   37786      NaN   \n",
       "381                 http://www.nutcrackerin3d.com/   49852      NaN   \n",
       "436   http://www.sonypictures.com/movies/grownups2  109418      NaN   \n",
       "...                                            ...     ...      ...   \n",
       "4790                                           NaN   13898      NaN   \n",
       "4794                                           NaN  286939      NaN   \n",
       "4797                                           NaN   67238      NaN   \n",
       "4799                                           NaN   72766      NaN   \n",
       "4801                   http://shanghaicalling.com/  126186      NaN   \n",
       "\n",
       "     original_language                         original_title  \\\n",
       "71                  en  The Mummy: Tomb of the Dragon Emperor   \n",
       "83                  en                             The Lovers   \n",
       "323                 en                     Sex and the City 2   \n",
       "381                 en       The Nutcracker: The Untold Story   \n",
       "436                 en                            Grown Ups 2   \n",
       "...                ...                                    ...   \n",
       "4790                fa                                  دایره   \n",
       "4794                en           Sanctuary: Quite a Conundrum   \n",
       "4797                en                                 Cavite   \n",
       "4799                en                              Newlyweds   \n",
       "4801                en                       Shanghai Calling   \n",
       "\n",
       "                                               overview  popularity  \\\n",
       "71    Archaeologist Rick O'Connell travels to China,...   60.034162   \n",
       "83    The Lovers is an epic romance time travel adve...    2.418535   \n",
       "323   Carrie, Charlotte, and Miranda are all married...   18.325897   \n",
       "381   Set in 1920's Vienna, this a tale of a little ...    3.593349   \n",
       "436   The all-star comedy cast from Grown Ups return...   45.589568   \n",
       "...                                                 ...         ...   \n",
       "4790  Various women struggle to function in the oppr...    1.193779   \n",
       "4794  It should have been just a normal day of sex, ...    0.166513   \n",
       "4797  Adam, a security guard, travels from Californi...    0.022173   \n",
       "4799  A newlywed couple's honeymoon is upended by th...    0.642552   \n",
       "4801  When ambitious New York attorney Sam is sent t...    0.857008   \n",
       "\n",
       "                                   production_companies  \\\n",
       "71    [{\"name\": \"Universal Pictures\", \"id\": 33}, {\"n...   \n",
       "83    [{\"name\": \"Corsan\", \"id\": 7299}, {\"name\": \"Bli...   \n",
       "323   [{\"name\": \"New Line Cinema\", \"id\": 12}, {\"name...   \n",
       "381   [{\"name\": \"Vnesheconombank\", \"id\": 24013}, {\"n...   \n",
       "436   [{\"name\": \"Columbia Pictures\", \"id\": 5}, {\"nam...   \n",
       "...                                                 ...   \n",
       "4790  [{\"name\": \"Jafar Panahi Film Productions\", \"id...   \n",
       "4794  [{\"name\": \"Gold Lion Films\", \"id\": 37870}, {\"n...   \n",
       "4797                                                NaN   \n",
       "4799                                                NaN   \n",
       "4801                                                NaN   \n",
       "\n",
       "                                   production_countries release_date  \\\n",
       "71    [{\"iso_3166_1\": \"DE\", \"name\": \"Germany\"}, {\"is...   2008-07-01   \n",
       "83    [{\"iso_3166_1\": \"AU\", \"name\": \"Australia\"}, {\"...   2015-02-13   \n",
       "323   [{\"iso_3166_1\": \"US\", \"name\": \"United States o...   2010-05-26   \n",
       "381   [{\"iso_3166_1\": \"GB\", \"name\": \"United Kingdom\"...   2010-11-24   \n",
       "436   [{\"iso_3166_1\": \"US\", \"name\": \"United States o...   2013-07-11   \n",
       "...                                                 ...          ...   \n",
       "4790             [{\"iso_3166_1\": \"IR\", \"name\": \"Iran\"}]   2000-09-08   \n",
       "4794  [{\"iso_3166_1\": \"US\", \"name\": \"United States o...   2012-01-20   \n",
       "4797                                                NaN   2005-03-12   \n",
       "4799                                                NaN   2011-12-26   \n",
       "4801  [{\"iso_3166_1\": \"US\", \"name\": \"United States o...   2012-05-03   \n",
       "\n",
       "        revenue  runtime                                   spoken_languages  \\\n",
       "71    401128639    112.0  [{\"iso_639_1\": \"en\", \"name\": \"English\"}, {\"iso...   \n",
       "83            0    109.0           [{\"iso_639_1\": \"en\", \"name\": \"English\"}]   \n",
       "323   288347692    146.0  [{\"iso_639_1\": \"en\", \"name\": \"English\"}, {\"iso...   \n",
       "381    16178959    110.0  [{\"iso_639_1\": \"da\", \"name\": \"Dansk\"}, {\"iso_6...   \n",
       "436   246984278    100.0           [{\"iso_639_1\": \"en\", \"name\": \"English\"}]   \n",
       "...         ...      ...                                                ...   \n",
       "4790          0     90.0  [{\"iso_639_1\": \"fa\", \"name\": \"\\u0641\\u0627\\u06...   \n",
       "4794          0     82.0           [{\"iso_639_1\": \"en\", \"name\": \"English\"}]   \n",
       "4797          0     80.0                                                NaN   \n",
       "4799          0     85.0                                                NaN   \n",
       "4801          0     98.0           [{\"iso_639_1\": \"en\", \"name\": \"English\"}]   \n",
       "\n",
       "        status                                            tagline  \\\n",
       "71    Released                                A New Evil Awakens.   \n",
       "83    Released                          Love is longer than life.   \n",
       "323   Released                                         Carrie on.   \n",
       "381   Released                                                NaN   \n",
       "436   Released  Just because they're a little older doesn't me...   \n",
       "...        ...                                                ...   \n",
       "4790  Released                                                NaN   \n",
       "4794  Released                                                NaN   \n",
       "4797  Released                                                NaN   \n",
       "4799  Released  A newlywed couple's honeymoon is upended by th...   \n",
       "4801  Released                           A New Yorker in Shanghai   \n",
       "\n",
       "                                      title  vote_average  vote_count  \n",
       "71    The Mummy: Tomb of the Dragon Emperor           5.2        1387  \n",
       "83                               The Lovers           4.8          34  \n",
       "323                      Sex and the City 2           5.4         426  \n",
       "381        The Nutcracker: The Untold Story           5.4          50  \n",
       "436                             Grown Ups 2           5.8        1155  \n",
       "...                                     ...           ...         ...  \n",
       "4790                             The Circle           6.6          17  \n",
       "4794           Sanctuary: Quite a Conundrum           0.0           0  \n",
       "4797                                 Cavite           7.5           2  \n",
       "4799                              Newlyweds           5.9           5  \n",
       "4801                       Shanghai Calling           5.7           7  \n",
       "\n",
       "[411 rows x 20 columns]"
      ]
     },
     "execution_count": 170,
     "metadata": {},
     "output_type": "execute_result"
    }
   ],
   "source": [
    "#INSPECT NULL VALUES per COLUMN\n",
    "column = 'keywords'\n",
    "df2[df2[column].isnull()]"
   ]
  },
  {
   "cell_type": "markdown",
   "id": "978e9705-0990-403c-8a7b-734bfd4d6197",
   "metadata": {
    "jp-MarkdownHeadingCollapsed": true,
    "tags": []
   },
   "source": [
    "###### Action: Remove Outlier 4553"
   ]
  },
  {
   "cell_type": "code",
   "execution_count": 81,
   "id": "f5c442e3-7217-4e87-a119-e7f2e3ed8da3",
   "metadata": {},
   "outputs": [
    {
     "data": {
      "text/plain": [
       "4802"
      ]
     },
     "execution_count": 81,
     "metadata": {},
     "output_type": "execute_result"
    }
   ],
   "source": [
    "#REMOVE OUTLIER 4553 - \"America is Still the Place\" ###Source: https://saturncloud.io/blog/how-to-remove-rows-with-specific-values-in-pandas-dataframe/#:~:text=Method%202%3A%20Using%20the%20drop,value%20we%20want%20to%20remove.\n",
    "outlier = df2[df2['id'] == 380097].index\n",
    "len(df2.drop(outlier, axis=0))"
   ]
  },
  {
   "cell_type": "code",
   "execution_count": 83,
   "id": "47db5aba-2a28-4d53-af31-46904fe35032",
   "metadata": {},
   "outputs": [],
   "source": [
    "#OUTPUT LOOKS GOOD- FINALISE CHANGES\n",
    "df2.drop(outlier, axis=0, inplace=True)"
   ]
  },
  {
   "cell_type": "markdown",
   "id": "5cff7a6d-69db-456f-8c84-aa2b44a5f0b5",
   "metadata": {
    "jp-MarkdownHeadingCollapsed": true,
    "tags": []
   },
   "source": [
    "###### Action: Convert all missing data to null"
   ]
  },
  {
   "cell_type": "code",
   "execution_count": 165,
   "id": "e26b4426-c4f2-4a3b-bca6-4f7c6bbac2bc",
   "metadata": {},
   "outputs": [],
   "source": [
    "# IDENTIFY MISSING VALUES THAT ARE NOT REPRESENTED BY NULL."
   ]
  },
  {
   "cell_type": "code",
   "execution_count": 167,
   "id": "1d392e40-12fe-4cbb-8058-bbdc2f1d9bcb",
   "metadata": {},
   "outputs": [],
   "source": [
    "## Identify what datatype represents this missing data object by grabbing an example from the data set\n",
    "example = df2[df2['id'] == 67238]['keywords'][4797]"
   ]
  },
  {
   "cell_type": "code",
   "execution_count": 158,
   "id": "82755b67-8dcb-4b7a-bd01-584d50d6128a",
   "metadata": {},
   "outputs": [
    {
     "data": {
      "text/plain": [
       "str"
      ]
     },
     "execution_count": 158,
     "metadata": {},
     "output_type": "execute_result"
    }
   ],
   "source": [
    "type(example)"
   ]
  },
  {
   "cell_type": "code",
   "execution_count": 159,
   "id": "31907876-7a37-4beb-8905-29de9e2ee741",
   "metadata": {},
   "outputs": [
    {
     "data": {
      "text/plain": [
       "'[]'"
      ]
     },
     "execution_count": 159,
     "metadata": {},
     "output_type": "execute_result"
    }
   ],
   "source": [
    "example"
   ]
  },
  {
   "cell_type": "code",
   "execution_count": 166,
   "id": "83c8ec67-0fe6-4f90-8672-c624daeed489",
   "metadata": {},
   "outputs": [],
   "source": [
    "# APPLY THE CONVERSION\n",
    "df2.replace(example,np.nan,inplace=True)"
   ]
  },
  {
   "cell_type": "markdown",
   "id": "1a6df88b-3b8b-48b8-b56d-7d71e0b6ed86",
   "metadata": {
    "jp-MarkdownHeadingCollapsed": true,
    "tags": []
   },
   "source": [
    "###### Action: Convert runtime for 2656 and 4140"
   ]
  },
  {
   "cell_type": "code",
   "execution_count": 179,
   "id": "f8a7aa5d-ac0b-4215-acef-6c8a51d98737",
   "metadata": {},
   "outputs": [],
   "source": [
    "#CONVERT Chiamatemi Francesco RUNTIME FROM NAN TO 96 MINUTES\n",
    "df2.loc[2656,'runtime'] = 96"
   ]
  },
  {
   "cell_type": "code",
   "execution_count": 180,
   "id": "3da74220-6ea7-4ed3-9f50-a641595ae543",
   "metadata": {},
   "outputs": [],
   "source": [
    "#CONVERT Frank Sinatra RUNTIME FROM NAN TO 96 MINUTES\n",
    "df2.loc[4140,'runtime'] = 81"
   ]
  },
  {
   "cell_type": "markdown",
   "id": "4eb5aa96-08e2-4dd9-be14-1b03b5fb5b39",
   "metadata": {
    "jp-MarkdownHeadingCollapsed": true,
    "tags": []
   },
   "source": [
    "### Are there any duplicates?"
   ]
  },
  {
   "cell_type": "markdown",
   "id": "4d88a66c-217b-47d0-a327-6b6753774b78",
   "metadata": {
    "tags": []
   },
   "source": [
    "No duplicates found."
   ]
  },
  {
   "cell_type": "markdown",
   "id": "d6294d9c-01ff-4f34-ba20-4da6d17de85e",
   "metadata": {
    "jp-MarkdownHeadingCollapsed": true,
    "tags": []
   },
   "source": [
    "##### <span style = \"color:#0C7BDC\"> **Code** </span>"
   ]
  },
  {
   "cell_type": "code",
   "execution_count": 182,
   "id": "fbae225c-2611-4195-a665-997ef3b190e5",
   "metadata": {},
   "outputs": [
    {
     "data": {
      "text/html": [
       "<div>\n",
       "<style scoped>\n",
       "    .dataframe tbody tr th:only-of-type {\n",
       "        vertical-align: middle;\n",
       "    }\n",
       "\n",
       "    .dataframe tbody tr th {\n",
       "        vertical-align: top;\n",
       "    }\n",
       "\n",
       "    .dataframe thead th {\n",
       "        text-align: right;\n",
       "    }\n",
       "</style>\n",
       "<table border=\"1\" class=\"dataframe\">\n",
       "  <thead>\n",
       "    <tr style=\"text-align: right;\">\n",
       "      <th></th>\n",
       "      <th>budget</th>\n",
       "      <th>genres</th>\n",
       "      <th>homepage</th>\n",
       "      <th>id</th>\n",
       "      <th>keywords</th>\n",
       "      <th>original_language</th>\n",
       "      <th>original_title</th>\n",
       "      <th>overview</th>\n",
       "      <th>popularity</th>\n",
       "      <th>production_companies</th>\n",
       "      <th>production_countries</th>\n",
       "      <th>release_date</th>\n",
       "      <th>revenue</th>\n",
       "      <th>runtime</th>\n",
       "      <th>spoken_languages</th>\n",
       "      <th>status</th>\n",
       "      <th>tagline</th>\n",
       "      <th>title</th>\n",
       "      <th>vote_average</th>\n",
       "      <th>vote_count</th>\n",
       "    </tr>\n",
       "  </thead>\n",
       "  <tbody>\n",
       "  </tbody>\n",
       "</table>\n",
       "</div>"
      ],
      "text/plain": [
       "Empty DataFrame\n",
       "Columns: [budget, genres, homepage, id, keywords, original_language, original_title, overview, popularity, production_companies, production_countries, release_date, revenue, runtime, spoken_languages, status, tagline, title, vote_average, vote_count]\n",
       "Index: []"
      ]
     },
     "execution_count": 182,
     "metadata": {},
     "output_type": "execute_result"
    }
   ],
   "source": [
    "#CHECK # OF UNIQUE VALUES Source: https://pandas.pydata.org/pandas-docs/stable/reference/api/pandas.DataFrame.duplicated.html\n",
    "df2[df2.duplicated()]"
   ]
  },
  {
   "cell_type": "markdown",
   "id": "54d2a7d6-a97e-4330-9689-9becb2669b1b",
   "metadata": {
    "tags": []
   },
   "source": [
    "### <span style = \"color:#E66100\"> **Outlier Check** </span>"
   ]
  },
  {
   "cell_type": "markdown",
   "id": "f0c877eb-0aea-4bcd-a0bb-9493e5cc2d30",
   "metadata": {
    "tags": []
   },
   "source": [
    "#### <span style = \"color:#E66100\"> **Insights and Inconsistencies** </span>"
   ]
  },
  {
   "cell_type": "markdown",
   "id": "dc0d1ecc-b57b-4c23-a67a-c0b8693324bb",
   "metadata": {},
   "source": [
    "- **Large spread but low variance** of budgets and revenues in the data, with the trend being towards 0.\n",
    "    - **Mean**\n",
    "        - Budget: **~4.1**\n",
    "        - Revenue: **~1.2**\n",
    "    - **Standard Deviation**\n",
    "        - Budget: **~4.4**\n",
    "        - Revenue: **~1.9**\n",
    "        \n",
    "- **<span style = \"color:red\"> **!** </span> False entries <span style = \"color:red\"> **!** </span>** for budget and revenues were identified.\n",
    "    - Major Budget and Grossing Films, including <u>Alvin and the Chipmunks, Cat in the Hat, and Arthur Christmas</u> had a budget and/or revenues of 0.\n",
    "    - These entries have been excluded from any analyses on revenue or budget."
   ]
  },
  {
   "cell_type": "markdown",
   "id": "d7009fab-046c-4c67-a11a-74d1df7dd216",
   "metadata": {
    "jp-MarkdownHeadingCollapsed": true,
    "tags": []
   },
   "source": [
    "##### <span style = \"color:#0C7BDC\"> **Code** </span>"
   ]
  },
  {
   "cell_type": "markdown",
   "id": "24fa732b-b0e5-4f74-8778-629e6dd0bcb9",
   "metadata": {
    "tags": []
   },
   "source": [
    "###### **Budget and Revenue Outliers**"
   ]
  },
  {
   "cell_type": "code",
   "execution_count": 117,
   "id": "1245cc1d-0150-4137-8840-8399d445e1b4",
   "metadata": {},
   "outputs": [
    {
     "data": {
      "image/png": "[encoded data removed]",
      "text/plain": [
       "<Figure size 1440x360 with 1 Axes>"
      ]
     },
     "metadata": {
      "needs_background": "light"
     },
     "output_type": "display_data"
    }
   ],
   "source": [
    "#PLOT A BOX PLOT OF THE BUDGET DATA\n",
    "plt.figure(figsize = (20,5))\n",
    "sns.boxplot(data = df2['budget'],\n",
    "           orient = 'h')\n",
    "plt.show()"
   ]
  },
  {
   "cell_type": "code",
   "execution_count": 116,
   "id": "0308131b-04bb-4187-a115-338e4448917d",
   "metadata": {},
   "outputs": [
    {
     "data": {
      "text/plain": [
       "15000000.0"
      ]
     },
     "execution_count": 116,
     "metadata": {},
     "output_type": "execute_result"
    }
   ],
   "source": [
    "#CALCULATING THE MEDIAN OF THE BUDGET VALUES\n",
    "df2['budget'].median()"
   ]
  },
  {
   "cell_type": "markdown",
   "id": "16ee7703-e7b8-42d7-a88a-fe8733944247",
   "metadata": {},
   "source": [
    "This looks wierd. Why is the **median** **15 million** (15000000) when we have so many values above **100 million** (100000000)?"
   ]
  },
  {
   "cell_type": "code",
   "execution_count": 114,
   "id": "67160ea6-a161-47ee-bc5e-dd82ce2c1c27",
   "metadata": {},
   "outputs": [
    {
     "name": "stdout",
     "output_type": "stream",
     "text": [
      "Below 100 Million: 4482 \n",
      "100 million and above: 320\n"
     ]
    }
   ],
   "source": [
    "#CALCULATING THE COUNT OF BUDGETS BELOW AND ABOVE 100 MILLION\n",
    "below = df2[df2['budget']<100000000]\n",
    "above = df2[df2['budget']>=100000000]\n",
    "\n",
    "print(f'Below 100 Million: {len(below)} \\n100 million and above: {len(above)}')"
   ]
  },
  {
   "cell_type": "markdown",
   "id": "8d074b94-5d8f-42d9-950c-eb05a2ad5913",
   "metadata": {},
   "source": [
    "The nature of movie budgets means they are quite spread, from independent films to blockbusters. So this makes sense."
   ]
  },
  {
   "cell_type": "markdown",
   "id": "8836bc38-91cb-433f-8c2c-d37b3cdd999b",
   "metadata": {},
   "source": [
    "The same logic applies for revenue."
   ]
  },
  {
   "cell_type": "code",
   "execution_count": 118,
   "id": "fd58782e-2e90-490e-bdbe-9d05b0a8250f",
   "metadata": {},
   "outputs": [
    {
     "data": {
      "image/png": "[encoded data removed]",
      "text/plain": [
       "<Figure size 1440x360 with 1 Axes>"
      ]
     },
     "metadata": {
      "needs_background": "light"
     },
     "output_type": "display_data"
    }
   ],
   "source": [
    "#PLOT A BOX PLOT OF THE REVENUE DATA\n",
    "plt.figure(figsize = (20,5))\n",
    "sns.boxplot(data = df2['revenue'],\n",
    "           orient = 'h')\n",
    "plt.show()"
   ]
  },
  {
   "cell_type": "code",
   "execution_count": 123,
   "id": "49f9e7b6-1cd2-4fa5-b0d1-2adec550f453",
   "metadata": {},
   "outputs": [
    {
     "data": {
      "text/plain": [
       "19174985.0"
      ]
     },
     "execution_count": 123,
     "metadata": {},
     "output_type": "execute_result"
    }
   ],
   "source": [
    "#CALCULATING THE MEDIAN OF THE REVENUE VALUES\n",
    "df2['revenue'].median()"
   ]
  },
  {
   "cell_type": "code",
   "execution_count": 124,
   "id": "3da1c634-82e2-4f26-9f07-1710e6712a4d",
   "metadata": {},
   "outputs": [
    {
     "name": "stdout",
     "output_type": "stream",
     "text": [
      "Below 0.5 Billion: 4656 \n",
      "0.5 Billion and above: 146\n"
     ]
    }
   ],
   "source": [
    "#CALCULATING THE COUNT OF REVENUES BELOW AND ABOVE 100 MILLION\n",
    "below = df2[df2['revenue']<500000000]\n",
    "above = df2[df2['revenue']>=500000000]\n",
    "\n",
    "print(f'Below 0.5 Billion: {len(below)} \\n0.5 Billion and above: {len(above)}')"
   ]
  },
  {
   "cell_type": "code",
   "execution_count": 136,
   "id": "d2527124-f184-4bfc-8b05-be07ceeb61b5",
   "metadata": {},
   "outputs": [
    {
     "data": {
      "image/png": "[encoded data removed]",
      "text/plain": [
       "<Figure size 1440x360 with 1 Axes>"
      ]
     },
     "metadata": {
      "needs_background": "light"
     },
     "output_type": "display_data"
    },
    {
     "name": "stdout",
     "output_type": "stream",
     "text": [
      "Mean: 0    0\n",
      "dtype: int64\n"
     ]
    }
   ],
   "source": [
    "#VARIANCE IN BUDGETS AND REVENUE OF FILMS WITHIN THE DATA\n",
    "plt.figure(figsize = (20,5))\n",
    "sns.histplot(data=df2, y='budget')\n",
    "plt.show()\n",
    "print(f\"Mean: {df2['budget'].mode()}\")"
   ]
  },
  {
   "cell_type": "code",
   "execution_count": 145,
   "id": "6e98faf9-18de-4f0e-8356-34c206346426",
   "metadata": {},
   "outputs": [
    {
     "data": {
      "text/plain": [
       "1036"
      ]
     },
     "execution_count": 145,
     "metadata": {},
     "output_type": "execute_result"
    }
   ],
   "source": [
    "#COUNT OF MOVIES WITH NO BUDGET\n",
    "len(df2[df2['budget']==0])"
   ]
  },
  {
   "cell_type": "markdown",
   "id": "f2bcc462-535b-4629-9f25-7317937325c4",
   "metadata": {},
   "source": [
    "**A large proportion of our budget entries are equal to 0!**"
   ]
  },
  {
   "cell_type": "code",
   "execution_count": 190,
   "id": "282d24e5-2915-4646-9dfd-238db4581e50",
   "metadata": {},
   "outputs": [
    {
     "data": {
      "text/html": [
       "<div>\n",
       "<style scoped>\n",
       "    .dataframe tbody tr th:only-of-type {\n",
       "        vertical-align: middle;\n",
       "    }\n",
       "\n",
       "    .dataframe tbody tr th {\n",
       "        vertical-align: top;\n",
       "    }\n",
       "\n",
       "    .dataframe thead th {\n",
       "        text-align: right;\n",
       "    }\n",
       "</style>\n",
       "<table border=\"1\" class=\"dataframe\">\n",
       "  <thead>\n",
       "    <tr style=\"text-align: right;\">\n",
       "      <th></th>\n",
       "      <th>budget</th>\n",
       "      <th>genres</th>\n",
       "      <th>homepage</th>\n",
       "      <th>id</th>\n",
       "      <th>keywords</th>\n",
       "      <th>original_language</th>\n",
       "      <th>original_title</th>\n",
       "      <th>overview</th>\n",
       "      <th>popularity</th>\n",
       "      <th>production_companies</th>\n",
       "      <th>production_countries</th>\n",
       "      <th>release_date</th>\n",
       "      <th>revenue</th>\n",
       "      <th>runtime</th>\n",
       "      <th>spoken_languages</th>\n",
       "      <th>status</th>\n",
       "      <th>tagline</th>\n",
       "      <th>title</th>\n",
       "      <th>vote_average</th>\n",
       "      <th>vote_count</th>\n",
       "    </tr>\n",
       "  </thead>\n",
       "  <tbody>\n",
       "    <tr>\n",
       "      <th>265</th>\n",
       "      <td>0</td>\n",
       "      <td>[{\"id\": 35, \"name\": \"Comedy\"}, {\"id\": 14, \"nam...</td>\n",
       "      <td>NaN</td>\n",
       "      <td>10588</td>\n",
       "      <td>[{\"id\": 977, \"name\": \"cat\"}, {\"id\": 1155, \"nam...</td>\n",
       "      <td>en</td>\n",
       "      <td>The Cat in the Hat</td>\n",
       "      <td>Conrad and Sally Walden are home alone with th...</td>\n",
       "      <td>18.251129</td>\n",
       "      <td>[{\"name\": \"Imagine Entertainment\", \"id\": 23}, ...</td>\n",
       "      <td>[{\"iso_3166_1\": \"US\", \"name\": \"United States o...</td>\n",
       "      <td>2003-11-21</td>\n",
       "      <td>0</td>\n",
       "      <td>82.0</td>\n",
       "      <td>[{\"iso_639_1\": \"en\", \"name\": \"English\"}]</td>\n",
       "      <td>Released</td>\n",
       "      <td>Don't mess with the hat.</td>\n",
       "      <td>The Cat in the Hat</td>\n",
       "      <td>4.9</td>\n",
       "      <td>366</td>\n",
       "    </tr>\n",
       "    <tr>\n",
       "      <th>321</th>\n",
       "      <td>0</td>\n",
       "      <td>[{\"id\": 35, \"name\": \"Comedy\"}]</td>\n",
       "      <td>NaN</td>\n",
       "      <td>77953</td>\n",
       "      <td>[{\"id\": 6078, \"name\": \"politics\"}, {\"id\": 6083...</td>\n",
       "      <td>en</td>\n",
       "      <td>The Campaign</td>\n",
       "      <td>Two rival politicians compete to win an electi...</td>\n",
       "      <td>16.460356</td>\n",
       "      <td>[{\"name\": \"Everyman Pictures\", \"id\": 2242}, {\"...</td>\n",
       "      <td>[{\"iso_3166_1\": \"US\", \"name\": \"United States o...</td>\n",
       "      <td>2012-08-09</td>\n",
       "      <td>104907746</td>\n",
       "      <td>85.0</td>\n",
       "      <td>[{\"iso_639_1\": \"en\", \"name\": \"English\"}]</td>\n",
       "      <td>Released</td>\n",
       "      <td>May The Best Loser Win.</td>\n",
       "      <td>The Campaign</td>\n",
       "      <td>5.6</td>\n",
       "      <td>578</td>\n",
       "    </tr>\n",
       "    <tr>\n",
       "      <th>359</th>\n",
       "      <td>0</td>\n",
       "      <td>[{\"id\": 12, \"name\": \"Adventure\"}, {\"id\": 16, \"...</td>\n",
       "      <td>http://www.foxmovies.com/movies/alvin-and-the-...</td>\n",
       "      <td>258509</td>\n",
       "      <td>[{\"id\": 10986, \"name\": \"chipmunk\"}, {\"id\": 109...</td>\n",
       "      <td>en</td>\n",
       "      <td>Alvin and the Chipmunks: The Road Chip</td>\n",
       "      <td>Through a series of misunderstandings, Alvin, ...</td>\n",
       "      <td>27.867368</td>\n",
       "      <td>[{\"name\": \"Regency Enterprises\", \"id\": 508}, {...</td>\n",
       "      <td>[{\"iso_3166_1\": \"US\", \"name\": \"United States o...</td>\n",
       "      <td>2015-12-17</td>\n",
       "      <td>233755553</td>\n",
       "      <td>92.0</td>\n",
       "      <td>[{\"iso_639_1\": \"en\", \"name\": \"English\"}]</td>\n",
       "      <td>Released</td>\n",
       "      <td>Fast &amp; furry-ous</td>\n",
       "      <td>Alvin and the Chipmunks: The Road Chip</td>\n",
       "      <td>5.8</td>\n",
       "      <td>428</td>\n",
       "    </tr>\n",
       "    <tr>\n",
       "      <th>406</th>\n",
       "      <td>0</td>\n",
       "      <td>[{\"id\": 18, \"name\": \"Drama\"}, {\"id\": 16, \"name...</td>\n",
       "      <td>http://www.arthurchristmas.com/</td>\n",
       "      <td>51052</td>\n",
       "      <td>[{\"id\": 65, \"name\": \"holiday\"}, {\"id\": 1991, \"...</td>\n",
       "      <td>en</td>\n",
       "      <td>Arthur Christmas</td>\n",
       "      <td>Each Christmas, Santa and his vast army of hig...</td>\n",
       "      <td>19.836830</td>\n",
       "      <td>[{\"name\": \"Columbia Pictures\", \"id\": 5}, {\"nam...</td>\n",
       "      <td>[{\"iso_3166_1\": \"US\", \"name\": \"United States o...</td>\n",
       "      <td>2011-02-22</td>\n",
       "      <td>0</td>\n",
       "      <td>97.0</td>\n",
       "      <td>[{\"iso_639_1\": \"en\", \"name\": \"English\"}]</td>\n",
       "      <td>Released</td>\n",
       "      <td>Ever wonder how 2 Billion presents get deliver...</td>\n",
       "      <td>Arthur Christmas</td>\n",
       "      <td>6.7</td>\n",
       "      <td>333</td>\n",
       "    </tr>\n",
       "    <tr>\n",
       "      <th>409</th>\n",
       "      <td>0</td>\n",
       "      <td>[{\"id\": 18, \"name\": \"Drama\"}, {\"id\": 10402, \"n...</td>\n",
       "      <td>NaN</td>\n",
       "      <td>16858</td>\n",
       "      <td>[{\"id\": 837, \"name\": \"show business\"}, {\"id\": ...</td>\n",
       "      <td>en</td>\n",
       "      <td>All That Jazz</td>\n",
       "      <td>Bob Fosse's semi-autobiographical film celebra...</td>\n",
       "      <td>5.159407</td>\n",
       "      <td>[{\"name\": \"Twentieth Century Fox Film Corporat...</td>\n",
       "      <td>[{\"iso_3166_1\": \"US\", \"name\": \"United States o...</td>\n",
       "      <td>1979-12-20</td>\n",
       "      <td>37823676</td>\n",
       "      <td>123.0</td>\n",
       "      <td>[{\"iso_639_1\": \"en\", \"name\": \"English\"}]</td>\n",
       "      <td>Released</td>\n",
       "      <td>All that work. All that glitter. All that pain...</td>\n",
       "      <td>All That Jazz</td>\n",
       "      <td>7.3</td>\n",
       "      <td>85</td>\n",
       "    </tr>\n",
       "  </tbody>\n",
       "</table>\n",
       "</div>"
      ],
      "text/plain": [
       "     budget                                             genres  \\\n",
       "265       0  [{\"id\": 35, \"name\": \"Comedy\"}, {\"id\": 14, \"nam...   \n",
       "321       0                     [{\"id\": 35, \"name\": \"Comedy\"}]   \n",
       "359       0  [{\"id\": 12, \"name\": \"Adventure\"}, {\"id\": 16, \"...   \n",
       "406       0  [{\"id\": 18, \"name\": \"Drama\"}, {\"id\": 16, \"name...   \n",
       "409       0  [{\"id\": 18, \"name\": \"Drama\"}, {\"id\": 10402, \"n...   \n",
       "\n",
       "                                              homepage      id  \\\n",
       "265                                                NaN   10588   \n",
       "321                                                NaN   77953   \n",
       "359  http://www.foxmovies.com/movies/alvin-and-the-...  258509   \n",
       "406                    http://www.arthurchristmas.com/   51052   \n",
       "409                                                NaN   16858   \n",
       "\n",
       "                                              keywords original_language  \\\n",
       "265  [{\"id\": 977, \"name\": \"cat\"}, {\"id\": 1155, \"nam...                en   \n",
       "321  [{\"id\": 6078, \"name\": \"politics\"}, {\"id\": 6083...                en   \n",
       "359  [{\"id\": 10986, \"name\": \"chipmunk\"}, {\"id\": 109...                en   \n",
       "406  [{\"id\": 65, \"name\": \"holiday\"}, {\"id\": 1991, \"...                en   \n",
       "409  [{\"id\": 837, \"name\": \"show business\"}, {\"id\": ...                en   \n",
       "\n",
       "                             original_title  \\\n",
       "265                      The Cat in the Hat   \n",
       "321                            The Campaign   \n",
       "359  Alvin and the Chipmunks: The Road Chip   \n",
       "406                        Arthur Christmas   \n",
       "409                           All That Jazz   \n",
       "\n",
       "                                              overview  popularity  \\\n",
       "265  Conrad and Sally Walden are home alone with th...   18.251129   \n",
       "321  Two rival politicians compete to win an electi...   16.460356   \n",
       "359  Through a series of misunderstandings, Alvin, ...   27.867368   \n",
       "406  Each Christmas, Santa and his vast army of hig...   19.836830   \n",
       "409  Bob Fosse's semi-autobiographical film celebra...    5.159407   \n",
       "\n",
       "                                  production_companies  \\\n",
       "265  [{\"name\": \"Imagine Entertainment\", \"id\": 23}, ...   \n",
       "321  [{\"name\": \"Everyman Pictures\", \"id\": 2242}, {\"...   \n",
       "359  [{\"name\": \"Regency Enterprises\", \"id\": 508}, {...   \n",
       "406  [{\"name\": \"Columbia Pictures\", \"id\": 5}, {\"nam...   \n",
       "409  [{\"name\": \"Twentieth Century Fox Film Corporat...   \n",
       "\n",
       "                                  production_countries release_date  \\\n",
       "265  [{\"iso_3166_1\": \"US\", \"name\": \"United States o...   2003-11-21   \n",
       "321  [{\"iso_3166_1\": \"US\", \"name\": \"United States o...   2012-08-09   \n",
       "359  [{\"iso_3166_1\": \"US\", \"name\": \"United States o...   2015-12-17   \n",
       "406  [{\"iso_3166_1\": \"US\", \"name\": \"United States o...   2011-02-22   \n",
       "409  [{\"iso_3166_1\": \"US\", \"name\": \"United States o...   1979-12-20   \n",
       "\n",
       "       revenue  runtime                          spoken_languages    status  \\\n",
       "265          0     82.0  [{\"iso_639_1\": \"en\", \"name\": \"English\"}]  Released   \n",
       "321  104907746     85.0  [{\"iso_639_1\": \"en\", \"name\": \"English\"}]  Released   \n",
       "359  233755553     92.0  [{\"iso_639_1\": \"en\", \"name\": \"English\"}]  Released   \n",
       "406          0     97.0  [{\"iso_639_1\": \"en\", \"name\": \"English\"}]  Released   \n",
       "409   37823676    123.0  [{\"iso_639_1\": \"en\", \"name\": \"English\"}]  Released   \n",
       "\n",
       "                                               tagline  \\\n",
       "265                           Don't mess with the hat.   \n",
       "321                            May The Best Loser Win.   \n",
       "359                                   Fast & furry-ous   \n",
       "406  Ever wonder how 2 Billion presents get deliver...   \n",
       "409  All that work. All that glitter. All that pain...   \n",
       "\n",
       "                                      title  vote_average  vote_count  \n",
       "265                      The Cat in the Hat           4.9         366  \n",
       "321                            The Campaign           5.6         578  \n",
       "359  Alvin and the Chipmunks: The Road Chip           5.8         428  \n",
       "406                        Arthur Christmas           6.7         333  \n",
       "409                           All That Jazz           7.3          85  "
      ]
     },
     "execution_count": 190,
     "metadata": {},
     "output_type": "execute_result"
    }
   ],
   "source": [
    "#MOVIES WITH NO BUDGET\n",
    "df2[df2['budget']==0].head()"
   ]
  },
  {
   "cell_type": "markdown",
   "id": "1d84eb00-cdd1-4afe-aa1a-34f6b6a92e0a",
   "metadata": {},
   "source": [
    "**This doesn't make sense.**\n",
    "- Arthur Christmas, Alvin and the Chipmunks and The Cat in the Hat are all **major grossing films with large budgets.**\n",
    "    - **Sources:** \n",
    "    - **1.** https://www.imdb.com/title/tt0312528/, \n",
    "    - **2.** https://www.imdb.com/title/tt2974918/?ref_=nv_sr_srsg_7_tt_8_nm_0_q_alvin%2520and%2520, \n",
    "    - **3.** https://www.imdb.com/title/tt1430607/?ref_=nv_sr_srsg_0_tt_7_nm_1_q_arthur%2520christmas"
   ]
  },
  {
   "cell_type": "markdown",
   "id": "f1e008cd-7244-459f-b09c-cf90b74440e0",
   "metadata": {},
   "source": [
    "**What happens if we remove 0 values and plot again?**\n",
    "- Mainly the same, still a large spread of data."
   ]
  },
  {
   "cell_type": "markdown",
   "id": "6cd1629d-51f7-47a8-b310-6b4d05ce4666",
   "metadata": {},
   "source": [
    "**Revenue No Zeros**"
   ]
  },
  {
   "cell_type": "code",
   "execution_count": 196,
   "id": "42ef7eae-437b-46f6-9ca5-058ac22275cb",
   "metadata": {},
   "outputs": [
    {
     "data": {
      "image/png": "[encoded data removed]",
      "text/plain": [
       "<Figure size 1440x360 with 1 Axes>"
      ]
     },
     "metadata": {
      "needs_background": "light"
     },
     "output_type": "display_data"
    }
   ],
   "source": [
    "plt.figure(figsize = (20,5))\n",
    "sns.boxplot(data = df2[(df2['revenue']!=0)][['revenue']],\n",
    "           orient = 'h')\n",
    "plt.show()"
   ]
  },
  {
   "cell_type": "code",
   "execution_count": 207,
   "id": "e9763c92-1d05-4600-b40e-4224b1990dc5",
   "metadata": {},
   "outputs": [
    {
     "data": {
      "image/png": "[encoded data removed]",
      "text/plain": [
       "<Figure size 1440x360 with 1 Axes>"
      ]
     },
     "metadata": {
      "needs_background": "light"
     },
     "output_type": "display_data"
    },
    {
     "name": "stdout",
     "output_type": "stream",
     "text": [
      "Mode: 0    0\n",
      "dtype: int64\n"
     ]
    }
   ],
   "source": [
    "plt.figure(figsize = (20,5))\n",
    "sns.histplot(data=df2[(df2['revenue']>0)], x='revenue')\n",
    "plt.show()\n",
    "print(f\"Mode: {df2['budget'].mode()}\")"
   ]
  },
  {
   "cell_type": "markdown",
   "id": "066bfa68-af3d-4c93-a011-fd197ff3a556",
   "metadata": {},
   "source": [
    "**Budget No Zeros**"
   ]
  },
  {
   "cell_type": "code",
   "execution_count": 202,
   "id": "90c6e65f-fefb-4071-8f82-c51b3a48c24b",
   "metadata": {},
   "outputs": [
    {
     "data": {
      "image/png": "[encoded data removed]",
      "text/plain": [
       "<Figure size 1440x360 with 1 Axes>"
      ]
     },
     "metadata": {
      "needs_background": "light"
     },
     "output_type": "display_data"
    }
   ],
   "source": [
    "#PLOT A BOX PLOT OF THE BUDGET DATA\n",
    "plt.figure(figsize = (20,5))\n",
    "sns.boxplot(data = df2[(df2['budget']!=0)][['budget']],\n",
    "           orient = 'h')\n",
    "plt.show()"
   ]
  },
  {
   "cell_type": "code",
   "execution_count": 208,
   "id": "e4f2a693-63c8-42e8-846c-ec19f3971c78",
   "metadata": {},
   "outputs": [
    {
     "data": {
      "image/png": "[encoded data removed]",
      "text/plain": [
       "<Figure size 1440x360 with 1 Axes>"
      ]
     },
     "metadata": {
      "needs_background": "light"
     },
     "output_type": "display_data"
    },
    {
     "name": "stdout",
     "output_type": "stream",
     "text": [
      "Mean: 0    0\n",
      "dtype: int64\n"
     ]
    }
   ],
   "source": [
    "#VARIANCE IN BUDGETS AND REVENUE OF FILMS WITHIN THE DATA\n",
    "plt.figure(figsize = (20,5))\n",
    "sns.histplot(data=df2[(df2['budget']>0)], x='budget')\n",
    "plt.show()\n",
    "print(f\"Mean: {df2['budget'].mode()}\")"
   ]
  },
  {
   "cell_type": "code",
   "execution_count": 211,
   "id": "043c2e29-eaea-4253-96b8-769f4ee97d3a",
   "metadata": {},
   "outputs": [
    {
     "data": {
      "text/plain": [
       "budget     4.439674e+07\n",
       "revenue    1.863029e+08\n",
       "dtype: float64"
      ]
     },
     "execution_count": 211,
     "metadata": {},
     "output_type": "execute_result"
    }
   ],
   "source": [
    "#STD DEV OF BUDGET AND REVENUE\n",
    "df2[(df2['budget']>0) & (df2['revenue']>0)][['budget','revenue']].std()"
   ]
  },
  {
   "cell_type": "code",
   "execution_count": 210,
   "id": "02d29137-14db-490c-bc4c-1bcc7bdc01b5",
   "metadata": {},
   "outputs": [
    {
     "data": {
      "text/plain": [
       "budget     4.065444e+07\n",
       "revenue    1.212430e+08\n",
       "dtype: float64"
      ]
     },
     "execution_count": 210,
     "metadata": {},
     "output_type": "execute_result"
    }
   ],
   "source": [
    "#MEAN OF BUDGET AND REVENUE\n",
    "df2[(df2['budget']>0) & (df2['revenue']>0)][['budget','revenue']].mean()"
   ]
  },
  {
   "cell_type": "code",
   "execution_count": 225,
   "id": "6085884e-e8cf-4ff0-8b5d-0074a5c95d1c",
   "metadata": {},
   "outputs": [],
   "source": [
    "## Function to extract genres for each datapoint\n",
    "# Source: Alex Caian\n",
    "def extract_genres(x): \n",
    "    x = ast.literal_eval(x) ## Transform '['name', 'id']' back into ['name', 'id']\n",
    "    Genres = [] ## Empty list to store the genres\n",
    "    \n",
    "    ''' Iterate through each dictionary '''\n",
    "    for item in x: ## iterate for each dictionary in our list\n",
    "        Genres.append(item['name']) ## Grab the 'name' key for each dictionary\n",
    "        \n",
    "    ''' Return the Genres'''\n",
    "    return Genres"
   ]
  },
  {
   "cell_type": "code",
   "execution_count": 237,
   "id": "f359f231-e0ef-4e2d-86ac-34c278351325",
   "metadata": {},
   "outputs": [],
   "source": [
    "#APPLYING THE FUNCTION for genres\n",
    "# issue - instead of string nulls we have actual nulls, this need string nulls.\n",
    "df2['extracted_genres'] = df['genres'].apply(extract_genres)"
   ]
  },
  {
   "cell_type": "code",
   "execution_count": 238,
   "id": "d80cf82e-780c-450d-83ea-9cbe24e84893",
   "metadata": {},
   "outputs": [],
   "source": [
    "#APPLYING THE FUNCTION for countries\n",
    "df2['extracted_countries'] = df['production_countries'].apply(extract_genres)"
   ]
  },
  {
   "cell_type": "code",
   "execution_count": 240,
   "id": "a454001d-e590-4373-b1c0-20aa49fc118f",
   "metadata": {},
   "outputs": [
    {
     "data": {
      "text/html": [
       "<div>\n",
       "<style scoped>\n",
       "    .dataframe tbody tr th:only-of-type {\n",
       "        vertical-align: middle;\n",
       "    }\n",
       "\n",
       "    .dataframe tbody tr th {\n",
       "        vertical-align: top;\n",
       "    }\n",
       "\n",
       "    .dataframe thead th {\n",
       "        text-align: right;\n",
       "    }\n",
       "</style>\n",
       "<table border=\"1\" class=\"dataframe\">\n",
       "  <thead>\n",
       "    <tr style=\"text-align: right;\">\n",
       "      <th></th>\n",
       "      <th>extracted_genres</th>\n",
       "      <th>extracted_countries</th>\n",
       "    </tr>\n",
       "  </thead>\n",
       "  <tbody>\n",
       "    <tr>\n",
       "      <th>0</th>\n",
       "      <td>[Action, Adventure, Fantasy, Science Fiction]</td>\n",
       "      <td>[United States of America, United Kingdom]</td>\n",
       "    </tr>\n",
       "    <tr>\n",
       "      <th>1</th>\n",
       "      <td>[Adventure, Fantasy, Action]</td>\n",
       "      <td>[United States of America]</td>\n",
       "    </tr>\n",
       "    <tr>\n",
       "      <th>2</th>\n",
       "      <td>[Action, Adventure, Crime]</td>\n",
       "      <td>[United Kingdom, United States of America]</td>\n",
       "    </tr>\n",
       "    <tr>\n",
       "      <th>3</th>\n",
       "      <td>[Action, Crime, Drama, Thriller]</td>\n",
       "      <td>[United States of America]</td>\n",
       "    </tr>\n",
       "    <tr>\n",
       "      <th>4</th>\n",
       "      <td>[Action, Adventure, Science Fiction]</td>\n",
       "      <td>[United States of America]</td>\n",
       "    </tr>\n",
       "  </tbody>\n",
       "</table>\n",
       "</div>"
      ],
      "text/plain": [
       "                                extracted_genres  \\\n",
       "0  [Action, Adventure, Fantasy, Science Fiction]   \n",
       "1                   [Adventure, Fantasy, Action]   \n",
       "2                     [Action, Adventure, Crime]   \n",
       "3               [Action, Crime, Drama, Thriller]   \n",
       "4           [Action, Adventure, Science Fiction]   \n",
       "\n",
       "                          extracted_countries  \n",
       "0  [United States of America, United Kingdom]  \n",
       "1                  [United States of America]  \n",
       "2  [United Kingdom, United States of America]  \n",
       "3                  [United States of America]  \n",
       "4                  [United States of America]  "
      ]
     },
     "execution_count": 240,
     "metadata": {},
     "output_type": "execute_result"
    }
   ],
   "source": [
    "#CHECKING THE NEW DATASET \n",
    "df2[['extracted_genres','extracted_countries']].head()"
   ]
  },
  {
   "cell_type": "code",
   "execution_count": 241,
   "id": "1c3df01b-d276-40f0-9c71-68baa696e6a6",
   "metadata": {},
   "outputs": [
    {
     "data": {
      "text/plain": [
       "list"
      ]
     },
     "execution_count": 241,
     "metadata": {},
     "output_type": "execute_result"
    }
   ],
   "source": [
    "#CHECKING DATA TYPES IN THE NEW COLUMNS\n",
    "type(df2['extracted_genres'][0])"
   ]
  },
  {
   "cell_type": "markdown",
   "id": "99902f02-0884-4add-b5f2-2c68fbd6864a",
   "metadata": {
    "tags": []
   },
   "source": [
    "## ----Exploration and Visualisation----"
   ]
  },
  {
   "cell_type": "markdown",
   "id": "b81023e8-7172-4fed-a7ed-e0f402278443",
   "metadata": {
    "jp-MarkdownHeadingCollapsed": true,
    "tags": []
   },
   "source": [
    "### Action: Making Genres and Keywords More Accessible for Visualisation"
   ]
  },
  {
   "cell_type": "markdown",
   "id": "602a3f92-fd0f-4905-9153-1a7d25c3fbf5",
   "metadata": {
    "jp-MarkdownHeadingCollapsed": true,
    "tags": []
   },
   "source": [
    "##### <span style = \"color:#0C7BDC\"> **Code** </span>"
   ]
  },
  {
   "cell_type": "code",
   "execution_count": 246,
   "id": "96854019-8c90-43fe-8298-e423616c4e77",
   "metadata": {},
   "outputs": [],
   "source": [
    "## Function to extract genres for each datapoint\n",
    "# Source: Alex Caian\n",
    "def extract_genres(x): \n",
    "    x = ast.literal_eval(x) ## Transform '['name', 'id']' back into ['name', 'id']\n",
    "    Genres = [] ## Empty list to store the genres\n",
    "    \n",
    "    ''' Iterate through each dictionary '''\n",
    "    for item in x: ## iterate for each dictionary in our list\n",
    "        Genres.append(item['name']) ## Grab the 'name' key for each dictionary\n",
    "        \n",
    "    ''' Return the Genres'''\n",
    "    return Genres"
   ]
  },
  {
   "cell_type": "code",
   "execution_count": 247,
   "id": "76d44e5d-04aa-48d4-a946-b6fbc96bbd1b",
   "metadata": {},
   "outputs": [],
   "source": [
    "#APPLYING THE FUNCTION for genres\n",
    "# issue - instead of string nulls we have actual nulls, this need string nulls.\n",
    "df2['extracted_genres'] = df['genres'].apply(extract_genres)"
   ]
  },
  {
   "cell_type": "code",
   "execution_count": 248,
   "id": "aae7c2b6-f5e1-47a7-b5db-447f63fc203c",
   "metadata": {},
   "outputs": [],
   "source": [
    "#APPLYING THE FUNCTION for countries\n",
    "df2['extracted_countries'] = df['production_countries'].apply(extract_genres)"
   ]
  },
  {
   "cell_type": "code",
   "execution_count": 249,
   "id": "9f91f327-3fdb-4d2e-9303-5a27a8cb8a4e",
   "metadata": {},
   "outputs": [
    {
     "data": {
      "text/html": [
       "<div>\n",
       "<style scoped>\n",
       "    .dataframe tbody tr th:only-of-type {\n",
       "        vertical-align: middle;\n",
       "    }\n",
       "\n",
       "    .dataframe tbody tr th {\n",
       "        vertical-align: top;\n",
       "    }\n",
       "\n",
       "    .dataframe thead th {\n",
       "        text-align: right;\n",
       "    }\n",
       "</style>\n",
       "<table border=\"1\" class=\"dataframe\">\n",
       "  <thead>\n",
       "    <tr style=\"text-align: right;\">\n",
       "      <th></th>\n",
       "      <th>extracted_genres</th>\n",
       "      <th>extracted_countries</th>\n",
       "    </tr>\n",
       "  </thead>\n",
       "  <tbody>\n",
       "    <tr>\n",
       "      <th>0</th>\n",
       "      <td>[Action, Adventure, Fantasy, Science Fiction]</td>\n",
       "      <td>[United States of America, United Kingdom]</td>\n",
       "    </tr>\n",
       "    <tr>\n",
       "      <th>1</th>\n",
       "      <td>[Adventure, Fantasy, Action]</td>\n",
       "      <td>[United States of America]</td>\n",
       "    </tr>\n",
       "    <tr>\n",
       "      <th>2</th>\n",
       "      <td>[Action, Adventure, Crime]</td>\n",
       "      <td>[United Kingdom, United States of America]</td>\n",
       "    </tr>\n",
       "    <tr>\n",
       "      <th>3</th>\n",
       "      <td>[Action, Crime, Drama, Thriller]</td>\n",
       "      <td>[United States of America]</td>\n",
       "    </tr>\n",
       "    <tr>\n",
       "      <th>4</th>\n",
       "      <td>[Action, Adventure, Science Fiction]</td>\n",
       "      <td>[United States of America]</td>\n",
       "    </tr>\n",
       "  </tbody>\n",
       "</table>\n",
       "</div>"
      ],
      "text/plain": [
       "                                extracted_genres  \\\n",
       "0  [Action, Adventure, Fantasy, Science Fiction]   \n",
       "1                   [Adventure, Fantasy, Action]   \n",
       "2                     [Action, Adventure, Crime]   \n",
       "3               [Action, Crime, Drama, Thriller]   \n",
       "4           [Action, Adventure, Science Fiction]   \n",
       "\n",
       "                          extracted_countries  \n",
       "0  [United States of America, United Kingdom]  \n",
       "1                  [United States of America]  \n",
       "2  [United Kingdom, United States of America]  \n",
       "3                  [United States of America]  \n",
       "4                  [United States of America]  "
      ]
     },
     "execution_count": 249,
     "metadata": {},
     "output_type": "execute_result"
    }
   ],
   "source": [
    "#CHECKING THE NEW DATASET \n",
    "df2[['extracted_genres','extracted_countries']].head()"
   ]
  },
  {
   "cell_type": "markdown",
   "id": "a87b1390-5689-4b40-a00e-d3a202391c88",
   "metadata": {
    "tags": []
   },
   "source": [
    "### Analysis: Best Performing Regions"
   ]
  },
  {
   "cell_type": "markdown",
   "id": "a20d9198-f2e1-401a-a4c4-60680a181866",
   "metadata": {
    "tags": []
   },
   "source": [
    "#### <span style = \"color:#E66100\"> **Insights** </span>"
   ]
  },
  {
   "cell_type": "markdown",
   "id": "0eea276a-a628-4e3f-a6d1-9aaf165a81ae",
   "metadata": {},
   "source": [
    "- The **US** grosses more than **3 times** the revenue of it's closest competitor (the UK).\n",
    "    - ~ 350000000000 or 350 billion (likely USD $).\n",
    "- Most **revenues** are appropriately aligned with associated **budgets**.\n",
    "    - With a positive correlation of **0.73**."
   ]
  },
  {
   "cell_type": "markdown",
   "id": "38f7b4f3-f2ec-438d-a1e8-6f4a01a144ab",
   "metadata": {
    "jp-MarkdownHeadingCollapsed": true,
    "tags": []
   },
   "source": [
    "##### <span style = \"color:#0C7BDC\"> **Code** </span>"
   ]
  },
  {
   "cell_type": "code",
   "execution_count": 273,
   "id": "cb439666-7f8d-4071-8359-1f2b82a2c049",
   "metadata": {},
   "outputs": [],
   "source": [
    "#source: chatgpt\n",
    "\n",
    "def get_unique(df, column_name):\n",
    "    '''\n",
    "    For a column containing a list of values, \n",
    "    this will collect all of the unique values for \n",
    "    that column by extracting each item in each list and return them as a set.\n",
    "    '''\n",
    "    # Initialize an empty set to store unique countries\n",
    "    unique = set()\n",
    "    \n",
    "    # Iterate through each list in the specified column\n",
    "    for data_list in df[column_name]:\n",
    "        # Update the set with countries from the current list\n",
    "        unique.update(data_list)\n",
    "    \n",
    "    return unique"
   ]
  },
  {
   "cell_type": "code",
   "execution_count": 274,
   "id": "a66fce1a-0b72-48a4-927a-515854efcce1",
   "metadata": {},
   "outputs": [],
   "source": [
    "#GATHER UNIQUE COUNTRIES IN THE DATASET\n",
    "unique_countries = get_unique(df2,'extracted_countries')\n",
    "# unique_countries"
   ]
  },
  {
   "cell_type": "code",
   "execution_count": 276,
   "id": "48d13e46-0aa5-4c54-b2d3-f122a30d020c",
   "metadata": {},
   "outputs": [],
   "source": [
    "#EXPLODE THE DATA SO THAT MULTI-COUNTRY DATA HAS A ROW REPRESENTING EACH COUNTRY IT APPLIES TO\n",
    "df_exploded = df2.explode('extracted_countries')\n",
    "df_exploded = df_exploded.rename(columns={'extracted_countries':'country'})"
   ]
  },
  {
   "cell_type": "code",
   "execution_count": 277,
   "id": "a59f78f2-8a8e-4fa8-ba1c-240b43c0e858",
   "metadata": {},
   "outputs": [],
   "source": [
    "#Group countries by total revenue\n",
    "revenue_per_country = df_exploded.groupby('country')['revenue'].sum().reset_index()"
   ]
  },
  {
   "cell_type": "code",
   "execution_count": 279,
   "id": "7e0d5c89-2a32-484a-acc1-ecb416bf95cc",
   "metadata": {},
   "outputs": [],
   "source": [
    "#GRAB THE TOP 15 GROSSING Countries BY REVENUE\n",
    "top_countries = revenue_per_country.sort_values(by='revenue', ascending=False).head(15)"
   ]
  },
  {
   "cell_type": "code",
   "execution_count": 291,
   "id": "0d7d6483-a35a-4149-8711-6b2bd5a74bca",
   "metadata": {},
   "outputs": [],
   "source": [
    "#Sort the top 15 countries in ascending order so that they display smallest to largest in a barplot\n",
    "top_countries.sort_values(by='revenue',ascending=True,inplace=True)"
   ]
  },
  {
   "cell_type": "code",
   "execution_count": 292,
   "id": "8dda2fa9-4920-4bb5-aeff-7ce714f703c2",
   "metadata": {},
   "outputs": [
    {
     "data": {
      "image/png": "[encoded data removed]",
      "text/plain": [
       "<Figure size 864x576 with 1 Axes>"
      ]
     },
     "metadata": {
      "needs_background": "light"
     },
     "output_type": "display_data"
    }
   ],
   "source": [
    "#generate a viewing window in the notebook for a plot\n",
    "plt.figure(figsize=(12, 8))\n",
    "#generate a bar plot of revenue per country\n",
    "sns.barplot(x='country', y='revenue', data=top_countries)\n",
    "#title\n",
    "plt.title('Total Revenue per Country')\n",
    "#x axis label\n",
    "plt.xlabel('Country')\n",
    "#y axis label\n",
    "plt.ylabel('Total Revenue')\n",
    "#orient country labels so that they look good\n",
    "plt.xticks(rotation=45,ha='right')\n",
    "#display the barplot\n",
    "plt.show()"
   ]
  },
  {
   "cell_type": "code",
   "execution_count": 307,
   "id": "b73cf22b-55ad-4acf-a6dc-62df417cbfc3",
   "metadata": {},
   "outputs": [],
   "source": [
    "#Group countries by total budget\n",
    "budget_per_country = df_exploded.groupby('country')['budget'].sum().reset_index()\n",
    "#grab the top 15 highest spending countries by budget\n",
    "top_spending_countries = budget_per_country.sort_values(by='budget', ascending=False).head(15)\n",
    "#sort the top 15 countries in ascending order so that they display smallest to largest in a plot\n",
    "top_spending_countries.sort_values(by='budget',ascending=True,inplace=True)"
   ]
  },
  {
   "cell_type": "code",
   "execution_count": 309,
   "id": "c17f627d-3a6b-4f2a-b542-eccbac6b8a99",
   "metadata": {},
   "outputs": [
    {
     "data": {
      "image/png": "[encoded data removed]",
      "text/plain": [
       "<Figure size 864x576 with 1 Axes>"
      ]
     },
     "metadata": {
      "needs_background": "light"
     },
     "output_type": "display_data"
    }
   ],
   "source": [
    "#generate a viewing window in the notebook for a plot\n",
    "plt.figure(figsize=(12, 8))\n",
    "#generate a bar plot of budget per country\n",
    "sns.barplot(x='country', y='budget', data=top_spending_countries)\n",
    "#title\n",
    "plt.title('Total Budget per Country')\n",
    "#x axis label\n",
    "plt.xlabel('Country')\n",
    "#y axis label\n",
    "plt.ylabel('Total Budget')\n",
    "#orient country labels so that they look good\n",
    "plt.xticks(rotation=45,ha='right')\n",
    "#display the barplot\n",
    "plt.show()"
   ]
  },
  {
   "cell_type": "code",
   "execution_count": 310,
   "id": "0b4dfd39-3834-4312-8722-b8c5444c01ea",
   "metadata": {},
   "outputs": [
    {
     "data": {
      "image/png": "[encoded data removed]",
      "text/plain": [
       "<Figure size 576x432 with 2 Axes>"
      ]
     },
     "metadata": {
      "needs_background": "light"
     },
     "output_type": "display_data"
    }
   ],
   "source": [
    "##source: chatgpt\n",
    "\n",
    "#generate a subset dataframe only containing values for budget and revenue\n",
    "columns_of_interest = ['budget', 'revenue']\n",
    "subset_df = df_exploded[columns_of_interest]\n",
    "\n",
    "# Calculate correlation between budget and revenue data\n",
    "correlation = subset_df.corr()\n",
    "\n",
    "# Plot the heatmap\n",
    "plt.figure(figsize=(8, 6))\n",
    "sns.heatmap(correlation, annot=True, cmap='coolwarm', vmin=-1, vmax=1)\n",
    "plt.title('Correlation between Revenue and Production Budget')\n",
    "plt.show()"
   ]
  },
  {
   "cell_type": "markdown",
   "id": "97b7fde2-ca48-4ebf-941f-a6440e68ebed",
   "metadata": {
    "tags": []
   },
   "source": [
    "### Analysis: Best Performing Genre"
   ]
  },
  {
   "cell_type": "markdown",
   "id": "e0ceb7ad-eaa8-4732-a5ab-ed00d0c994ba",
   "metadata": {
    "tags": []
   },
   "source": [
    "#### <span style = \"color:#E66100\"> **Insights** </span>"
   ]
  },
  {
   "cell_type": "markdown",
   "id": "b123388c-6513-425c-881f-324ef0473d7d",
   "metadata": {},
   "source": [
    "- <u>**Adventure**</u> is the best performing Genre, **grossing:** \n",
    "    - **\\$ 164841561551**\n",
    "- <u>**Action**</u> is the highest costing genre, with a **total expenditure of:**\n",
    "    - **\\$ 5944340699**"
   ]
  },
  {
   "cell_type": "markdown",
   "id": "d3e7f019-c7c2-48e1-adf3-d0a4df3c8372",
   "metadata": {
    "jp-MarkdownHeadingCollapsed": true,
    "tags": []
   },
   "source": [
    "##### <span style = \"color:#0C7BDC\"> **Code** </span>"
   ]
  },
  {
   "cell_type": "code",
   "execution_count": 284,
   "id": "4d197edd-e0df-473e-b25a-188a88b0d11c",
   "metadata": {},
   "outputs": [],
   "source": [
    "#EXPLODE THE DATA SO THAT MULTI-GENRE DATA HAS A ROW REPRESENTING EACH GENRE IT APPLIES TO\n",
    "df_exploded_genres = df2.explode('extracted_genres')\n",
    "df_exploded_genres = df_exploded_genres.rename(columns={'extracted_genres':'genre'})"
   ]
  },
  {
   "cell_type": "code",
   "execution_count": 285,
   "id": "f0991b75-47c2-4faf-aa64-d42d8636cd0b",
   "metadata": {},
   "outputs": [],
   "source": [
    "#GENERATE A NEW DATAFRAME WITH THE SUM OF REVENUE FOR EACH GENRE\n",
    "revenue_per_genre = df_exploded_genres.groupby('genre')['revenue'].sum().reset_index()"
   ]
  },
  {
   "cell_type": "code",
   "execution_count": 286,
   "id": "f0871a36-618c-4d06-b3c6-44ee0f2764c0",
   "metadata": {},
   "outputs": [],
   "source": [
    "#GRAB THE TOP 15 GROSSING GENRES BY REVENUE\n",
    "top_genres = revenue_per_genre.sort_values(by='revenue', ascending=False).head(15)"
   ]
  },
  {
   "cell_type": "code",
   "execution_count": 289,
   "id": "8f679df6-9bd0-4a25-aabd-0730222d1f0e",
   "metadata": {},
   "outputs": [],
   "source": [
    "#SORT THE TOP 15 IN ASCENDING ORDER TO DISPLAY SMALLEST TO LARGEST IN THE BARPLOT\n",
    "top_genres.sort_values(by='revenue',ascending=True,inplace=True)"
   ]
  },
  {
   "cell_type": "code",
   "execution_count": 4,
   "id": "84538d00-1fdd-4675-af4b-0c49469cb3ef",
   "metadata": {},
   "outputs": [
    {
     "ename": "NameError",
     "evalue": "name 'top_genres' is not defined",
     "output_type": "error",
     "traceback": [
      "\u001b[1;31m---------------------------------------------------------------------------\u001b[0m",
      "\u001b[1;31mNameError\u001b[0m                                 Traceback (most recent call last)",
      "\u001b[1;32m~\\AppData\\Local\\Temp/ipykernel_17208/4224223991.py\u001b[0m in \u001b[0;36m<module>\u001b[1;34m\u001b[0m\n\u001b[0;32m      2\u001b[0m \u001b[0mplt\u001b[0m\u001b[1;33m.\u001b[0m\u001b[0mfigure\u001b[0m\u001b[1;33m(\u001b[0m\u001b[0mfigsize\u001b[0m\u001b[1;33m=\u001b[0m\u001b[1;33m(\u001b[0m\u001b[1;36m12\u001b[0m\u001b[1;33m,\u001b[0m \u001b[1;36m8\u001b[0m\u001b[1;33m)\u001b[0m\u001b[1;33m)\u001b[0m\u001b[1;33m\u001b[0m\u001b[1;33m\u001b[0m\u001b[0m\n\u001b[0;32m      3\u001b[0m \u001b[1;31m#Generate a bar plot of revenue per genre\u001b[0m\u001b[1;33m\u001b[0m\u001b[1;33m\u001b[0m\u001b[0m\n\u001b[1;32m----> 4\u001b[1;33m \u001b[0msns\u001b[0m\u001b[1;33m.\u001b[0m\u001b[0mbarplot\u001b[0m\u001b[1;33m(\u001b[0m\u001b[0mx\u001b[0m\u001b[1;33m=\u001b[0m\u001b[1;34m'genre'\u001b[0m\u001b[1;33m,\u001b[0m \u001b[0my\u001b[0m\u001b[1;33m=\u001b[0m\u001b[1;34m'revenue'\u001b[0m\u001b[1;33m,\u001b[0m \u001b[0mdata\u001b[0m\u001b[1;33m=\u001b[0m\u001b[0mtop_genres\u001b[0m\u001b[1;33m)\u001b[0m\u001b[1;33m\u001b[0m\u001b[1;33m\u001b[0m\u001b[0m\n\u001b[0m\u001b[0;32m      5\u001b[0m \u001b[1;31m#Title\u001b[0m\u001b[1;33m\u001b[0m\u001b[1;33m\u001b[0m\u001b[0m\n\u001b[0;32m      6\u001b[0m \u001b[0mplt\u001b[0m\u001b[1;33m.\u001b[0m\u001b[0mtitle\u001b[0m\u001b[1;33m(\u001b[0m\u001b[1;34m'Total Revenue per Genre'\u001b[0m\u001b[1;33m)\u001b[0m\u001b[1;33m\u001b[0m\u001b[1;33m\u001b[0m\u001b[0m\n",
      "\u001b[1;31mNameError\u001b[0m: name 'top_genres' is not defined"
     ]
    },
    {
     "data": {
      "text/plain": [
       "<Figure size 864x576 with 0 Axes>"
      ]
     },
     "metadata": {},
     "output_type": "display_data"
    }
   ],
   "source": [
    "#Generate a window to display bar plot\n",
    "plt.figure(figsize=(12, 8))\n",
    "#Generate a bar plot of revenue per genre\n",
    "sns.barplot(x='genre', y='revenue', data=top_genres)\n",
    "#Title\n",
    "plt.title('Total Revenue per Genre')\n",
    "#X axis label\n",
    "plt.xlabel('Genre')\n",
    "#Y axis label\n",
    "plt.ylabel('Total Revenue')\n",
    "#Set the genre labels so that they fit neatly in the plot\n",
    "plt.xticks(rotation=45,ha='right')\n",
    "#display the barplot\n",
    "plt.show()"
   ]
  },
  {
   "cell_type": "code",
   "execution_count": 305,
   "id": "da7c3db3-0515-4b50-aa40-3b492deff499",
   "metadata": {},
   "outputs": [],
   "source": [
    "#GENERATE A NEW DATAFRAME WITH THE SUM OF budgets FOR EACH GENRE\n",
    "budget_per_genre = df_exploded_genres.groupby('genre')['budget'].sum().reset_index()\n",
    "#GRAB THE TOP 15 spending GENRES BY budget\n",
    "top_spending_genres = budget_per_genre.sort_values(by='budget', ascending=False).head(15)\n",
    "#Sort the top 15 genres in ascending order to display smallest to largest in the barplot\n",
    "## This makes comparison between the two barplots easier.\n",
    "top_spending_genres.sort_values(by='budget',ascending=True,inplace=True)"
   ]
  },
  {
   "cell_type": "code",
   "execution_count": 306,
   "id": "8829fd49-7240-4afa-a0fb-e508b64bad5b",
   "metadata": {},
   "outputs": [
    {
     "data": {
      "image/png": "[encoded data removed]",
      "text/plain": [
       "<Figure size 864x576 with 1 Axes>"
      ]
     },
     "metadata": {
      "needs_background": "light"
     },
     "output_type": "display_data"
    }
   ],
   "source": [
    "#Generate a window to display bar plot\n",
    "plt.figure(figsize=(12, 8))\n",
    "#Generate a bar plot of budget per genre\n",
    "sns.barplot(x='genre', y='budget', data=top_spending_genres)\n",
    "#Title\n",
    "plt.title('Total Budget per Genre')\n",
    "#X axis label\n",
    "plt.xlabel('Genre')\n",
    "#Y axis label\n",
    "plt.ylabel('Total Budget')\n",
    "#Set the genre labels so that they fit neatly in the plot\n",
    "plt.xticks(rotation=45,ha='right')\n",
    "#display the barplot\n",
    "plt.show()"
   ]
  },
  {
   "cell_type": "markdown",
   "id": "6bc2a356-ecce-4cbf-8728-48f252420c2c",
   "metadata": {
    "tags": []
   },
   "source": [
    "### Analysis: Popularity vs Voting Data Correlation"
   ]
  },
  {
   "cell_type": "markdown",
   "id": "ce38d34a-b167-4391-b989-028f2b5e4cc6",
   "metadata": {
    "tags": []
   },
   "source": [
    "#### <span style = \"color:#E66100\"> **Insights** </span>"
   ]
  },
  {
   "cell_type": "markdown",
   "id": "88df45f6-7f54-4b60-8e6d-03635618c6f0",
   "metadata": {},
   "source": [
    "- A **weak positive correlation** (0.27) was identified between data in the **popularity** column and the **vote average**.\n",
    "    - This was surprising as popularity would intuitively be reflected in by vote/rating.\n",
    "    - Potentially vote has another meaning than the assumed meaning of 1-10 rating.\n",
    "    - Or popularity is calculated using something other than the rating of a given film.\n",
    "        - **I wonder what this is?**"
   ]
  },
  {
   "cell_type": "markdown",
   "id": "49864105-cc60-4819-9221-c29c2b914c7d",
   "metadata": {
    "jp-MarkdownHeadingCollapsed": true,
    "tags": []
   },
   "source": [
    "##### <span style = \"color:#0C7BDC\"> **Code** </span>"
   ]
  },
  {
   "cell_type": "code",
   "execution_count": 259,
   "id": "d86fa7ed-8371-4b0b-9d27-44d1c2ad6501",
   "metadata": {},
   "outputs": [
    {
     "data": {
      "image/png": "[encoded data removed]",
      "text/plain": [
       "<Figure size 576x432 with 2 Axes>"
      ]
     },
     "metadata": {
      "needs_background": "light"
     },
     "output_type": "display_data"
    }
   ],
   "source": [
    "##SOURCE: chatgpt\n",
    "\n",
    "columns_of_interest = ['popularity', 'vote_average']\n",
    "subset_df = df2[columns_of_interest]\n",
    "\n",
    "# Calculate correlation\n",
    "correlation = subset_df.corr()\n",
    "\n",
    "# Plot the heatmap\n",
    "plt.figure(figsize=(8, 6))\n",
    "sns.heatmap(correlation, annot=True, cmap='coolwarm', vmin=-1, vmax=1)\n",
    "plt.title('Correlation between Column Popularity Metric and Vote average')\n",
    "plt.show()"
   ]
  }
 ],
 "metadata": {
  "kernelspec": {
   "display_name": "Python 3 (ipykernel)",
   "language": "python",
   "name": "python3"
  },
  "language_info": {
   "codemirror_mode": {
    "name": "ipython",
    "version": 3
   },
   "file_extension": ".py",
   "mimetype": "text/x-python",
   "name": "python",
   "nbconvert_exporter": "python",
   "pygments_lexer": "ipython3",
   "version": "3.9.7"
  }
 },
 "nbformat": 4,
 "nbformat_minor": 5
}
